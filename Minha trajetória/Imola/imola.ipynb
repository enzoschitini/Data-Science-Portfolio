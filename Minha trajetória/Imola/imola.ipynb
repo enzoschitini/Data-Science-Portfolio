{
 "cells": [
  {
   "cell_type": "markdown",
   "metadata": {},
   "source": [
    "<img src=\"image/Capa.png\" alt=\"ebac-logo\">\n",
    "\n",
    "---\n",
    "\n",
    "# **Imola** | Python: DataSet Space: Stars and Planets \n",
    "\n",
    "Caderno de **Códigos**<br> \n",
    "Desenvolvedor [Enzo Schitini](https://enzo-schitini.bubbleapps.io/version-test/)\n",
    "\n",
    "---"
   ]
  },
  {
   "cell_type": "markdown",
   "metadata": {},
   "source": [
    "## -> `Definição`"
   ]
  },
  {
   "cell_type": "markdown",
   "metadata": {},
   "source": [
    "### `Sobre a função do programa`"
   ]
  },
  {
   "cell_type": "markdown",
   "metadata": {},
   "source": [
    "Olá, meu nome é `Enzo Schtini` e quero compartilhar `Imola` com você. É um algoritmo que revela dados incríveis sobre ‘exoplanetas e a temperatura das estrelas’."
   ]
  },
  {
   "cell_type": "markdown",
   "metadata": {},
   "source": [
    "### `Kepler`"
   ]
  },
  {
   "cell_type": "markdown",
   "metadata": {},
   "source": [
    "##### Contexto"
   ]
  },
  {
   "cell_type": "markdown",
   "metadata": {},
   "source": [
    "O `Observatório Espacial Kepler` é um satélite construído pela NASA que foi lançado em 2009. O telescópio é dedicado à busca de exoplanetas em sistemas estelares além do nosso, com o objetivo final de possivelmente encontrar planetas habitáveis ​​diferentes do nosso. A missão original terminou em 2013 devido a falhas mecânicas, mas o telescópio está operando desde 2014 em uma missão estendida “K2”.\n",
    "\n",
    "O Kepler verificou 1.284 novos exoplanetas em maio de 2016. Em outubro de 2017, havia mais de 3.000 exoplanetas confirmados no total (usando todos os métodos de detecção, incluindo os baseados em terra). O telescópio ainda está ativo e continua a recolher novos dados na sua missão expandida."
   ]
  },
  {
   "cell_type": "markdown",
   "metadata": {},
   "source": [
    "##### Contente"
   ]
  },
  {
   "cell_type": "markdown",
   "metadata": {},
   "source": [
    "Este conjunto de dados é um registro cumulativo de todos os `objetos de interesse` observados pelo Kepler – basicamente, todos os `aproximadamente 10.000 candidatos a exoplanetas` dos quais o Kepler fez observações."
   ]
  },
  {
   "cell_type": "code",
   "execution_count": 21,
   "metadata": {},
   "outputs": [],
   "source": [
    "from functools import reduce\n",
    "from tqdm import tqdm\n",
    "import pandas as pd\n",
    "import time\n",
    "import csv"
   ]
  },
  {
   "cell_type": "code",
   "execution_count": 22,
   "metadata": {},
   "outputs": [],
   "source": [
    "class ArquivoCSV(object):\n",
    "\n",
    "  def __init__(self, arquivo: str):\n",
    "    self.arquivo = arquivo\n",
    "    self.conteudo = self._extrair_conteudo()\n",
    "    self.colunas = self._extrair_nome_colunas()\n",
    "\n",
    "  def _extrair_conteudo(self):\n",
    "    conteudo = None\n",
    "    with open(file=self.arquivo, mode='r', encoding='utf8') as arquivo:\n",
    "      conteudo = arquivo.readlines()\n",
    "    return conteudo\n",
    "\n",
    "  def _extrair_nome_colunas(self):\n",
    "    return self.conteudo[0].strip().split(sep=',')\n",
    "\n",
    "  def extrair_coluna(self, indice_coluna: str):\n",
    "    coluna = list()\n",
    "    for linha in self.conteudo:\n",
    "      conteudo_linha = linha.strip().split(sep=',')\n",
    "      coluna.append(conteudo_linha[indice_coluna])\n",
    "    coluna.pop(0)\n",
    "    return coluna\n"
   ]
  },
  {
   "cell_type": "code",
   "execution_count": 23,
   "metadata": {},
   "outputs": [],
   "source": [
    "def analisar_exoplanetas():\n",
    "    \n",
    "    def sleep():\n",
    "        print('-------------------------- \\n ')\n",
    "        for i in tqdm(range(2)):\n",
    "            time.sleep(0.5)\n",
    "        print('-------------------------- \\n ')\n",
    "\n",
    "    csv = ArquivoCSV('./satelite.csv')\n",
    "\n",
    "    num = len(csv.extrair_coluna(0))\n",
    "    print(num, 'Kepler Exoplanet Search Results')\n",
    "\n",
    "    yon = csv.extrair_coluna(4)\n",
    "    conf = 0\n",
    "    no_confirmed = 0\n",
    "\n",
    "    for x in yon:\n",
    "        x = x.strip()\n",
    "        if x == 'CONFIRMED':\n",
    "            conf = conf + 1\n",
    "        else:\n",
    "            no_confirmed = no_confirmed + 1\n",
    "\n",
    "    percentuale = lambda x: (x * 100) / num\n",
    "\n",
    "    sleep()\n",
    "\n",
    "    print(round(percentuale(conf)), '%', 'Exoplanet confirmed', '->', conf)\n",
    "    print(round(percentuale(no_confirmed)), '%', 'Exoplanet no confirmed', '->', no_confirmed)"
   ]
  },
  {
   "cell_type": "code",
   "execution_count": 24,
   "metadata": {},
   "outputs": [],
   "source": [
    "def limp_csv(arquivo_csv : str):\n",
    "   with open(file=arquivo_csv, mode='w') as file:\n",
    "      file.write(\"\")"
   ]
  },
  {
   "cell_type": "code",
   "execution_count": 25,
   "metadata": {},
   "outputs": [
    {
     "name": "stdout",
     "output_type": "stream",
     "text": [
      "9564 Kepler Exoplanet Search Results\n",
      "-------------------------- \n",
      " \n"
     ]
    },
    {
     "name": "stderr",
     "output_type": "stream",
     "text": [
      "100%|██████████| 2/2 [00:01<00:00,  1.99it/s]"
     ]
    },
    {
     "name": "stdout",
     "output_type": "stream",
     "text": [
      "-------------------------- \n",
      " \n",
      "24 % Exoplanet confirmed -> 2293\n",
      "76 % Exoplanet no confirmed -> 7271\n"
     ]
    },
    {
     "name": "stderr",
     "output_type": "stream",
     "text": [
      "\n"
     ]
    }
   ],
   "source": [
    "analisar_exoplanetas()"
   ]
  },
  {
   "cell_type": "code",
   "execution_count": 26,
   "metadata": {},
   "outputs": [],
   "source": [
    "def score():\n",
    "\n",
    "    file = ArquivoCSV('./satelite.csv')\n",
    "    lista = file.extrair_coluna(6)\n",
    "    \n",
    "    # Media Score\n",
    "    lista_x = []\n",
    "    for x in lista:\n",
    "        if x != '':\n",
    "            x = float(x)\n",
    "            lista_x.append(x)\n",
    "    media_score = reduce(lambda x, y: x + y, lista_x) / len(lista_x)\n",
    "    print(f'Average score: {round(media_score, 2)}, 0 - 1')\n",
    "\n",
    "    # Scala di accettazione\n",
    "    lista_conf_score_x = []\n",
    "    with open(file='./satelite.csv', mode='r', encoding='utf-8') as fp:\n",
    "        line = fp.readline()\n",
    "        line = fp.readline()\n",
    "        while line:\n",
    "            line = line.strip().split(sep=',')\n",
    "            if line[4] == 'CONFIRMED':\n",
    "                lista_conf_score_x.append(line[6])\n",
    "                line = fp.readline()\n",
    "            else:\n",
    "                line = fp.readline()"
   ]
  },
  {
   "cell_type": "code",
   "execution_count": 27,
   "metadata": {},
   "outputs": [
    {
     "name": "stdout",
     "output_type": "stream",
     "text": [
      "Average score: 0.48, 0 - 1\n"
     ]
    }
   ],
   "source": [
    "score()"
   ]
  },
  {
   "cell_type": "markdown",
   "metadata": {},
   "source": [
    "### `Stars`"
   ]
  },
  {
   "cell_type": "markdown",
   "metadata": {},
   "source": [
    "##### Você já se perguntou qual estrela colorida tem a temperatura mais alta?"
   ]
  },
  {
   "cell_type": "markdown",
   "metadata": {},
   "source": [
    "Então, através deste algoritmo podemos entender que uma estrela que tem a `cor Azul brilha` mais enquanto as `Vermelhas brilham menos`"
   ]
  },
  {
   "cell_type": "code",
   "execution_count": 28,
   "metadata": {},
   "outputs": [],
   "source": [
    "csv_nome = './Stars.csv'\n",
    "from adige import ArquivoCSV"
   ]
  },
  {
   "cell_type": "code",
   "execution_count": 29,
   "metadata": {},
   "outputs": [
    {
     "name": "stdout",
     "output_type": "stream",
     "text": [
      "--------------------------\n",
      "240\n"
     ]
    }
   ],
   "source": [
    "csv = ArquivoCSV(csv_nome)\n",
    "print('--------------------------')\n",
    "print(len(csv.extrair_coluna(0)))"
   ]
  },
  {
   "cell_type": "code",
   "execution_count": 30,
   "metadata": {},
   "outputs": [
    {
     "name": "stdout",
     "output_type": "stream",
     "text": [
      "['yellowish', 'White-Yellow', 'white', 'Pale yellow orange', 'Yellowish', 'Blue White', 'White', 'Blue-white', 'yellow-white', 'Orange-Red', 'Red', 'Orange', 'Yellowish White', 'Whitish', 'Blue white', 'Blue-White', 'Blue']\n",
      "17\n"
     ]
    }
   ],
   "source": [
    "# Category of Stars\n",
    "from adige import limp\n",
    "catg = csv.extrair_coluna(4)\n",
    "catg = limp(catg)\n",
    "print(catg)\n",
    "print(len(catg))"
   ]
  },
  {
   "cell_type": "code",
   "execution_count": 31,
   "metadata": {},
   "outputs": [],
   "source": [
    "def cat_val(cat:int, val:int) -> list:\n",
    "    lista = []\n",
    "    with open(file=csv_nome, mode='r', encoding='utf-8') as fp:\n",
    "        line = fp.readline()\n",
    "        line = fp.readline()\n",
    "        while line:\n",
    "            line = line.split(sep=',')\n",
    "            p1 = line[cat]\n",
    "            p2 = line[val]\n",
    "            lista_x = p1 + '; ' + p2\n",
    "            lista.append(lista_x)\n",
    "            line = fp.readline()\n",
    "    return lista"
   ]
  },
  {
   "cell_type": "code",
   "execution_count": 32,
   "metadata": {},
   "outputs": [
    {
     "name": "stdout",
     "output_type": "stream",
     "text": [
      "['Red; 3068', 'Red; 3042', 'Red; 2600', 'Red; 2800', 'Red; 1939', 'Red; 2840', 'Red; 2637', 'Red; 2600', 'Red; 2650', 'Red; 2700', 'Red; 3600', 'Red; 3129', 'Red; 3134', 'Red; 3628', 'Red; 2650', 'Red; 3340', 'Red; 2799', 'Red; 3692', 'Red; 3192', 'Red; 3441', 'Blue White; 25000', 'White; 7740', 'White; 7220', 'White; 8500', 'Blue White; 16500', 'Yellowish White; 12990', 'Blue white; 8570', 'Yellowish White; 7700', 'Yellowish White; 11790', 'Pale yellow orange; 7230', 'Blue; 39000', 'Blue-white; 30000', 'Blue-white; 15276', 'Whitish; 9700', 'yellow-white; 5800', 'Whitish; 8052', 'yellow-white; 6757', 'yellow-white; 6380', 'yellow-white; 5936', 'yellow-white; 5587', 'Red; 3826', 'Red; 3365', 'Red; 3270', 'Red; 3200', 'Red; 3008', 'Red; 3600', 'Red; 3575', 'Red; 3574', 'Red; 3625', 'Blue; 33750', 'Red; 3490', 'Red; 3750', 'Red; 3834', 'Orange; 3749', 'Red; 3650', 'Red; 3450', 'Red; 3660', 'Red; 3450', 'Red; 3752', 'Red; 3535', 'Red; 3341', 'Red; 3432', 'Red; 2983', 'Red; 2835', 'Red; 2935', 'Red; 3295', 'Red; 2945', 'Red; 2817', 'Red; 2774', 'Red; 2871', 'Red; 3345', 'Red; 3607', 'Red; 3304', 'Red; 3150', 'Red; 3550', 'Red; 3180', 'Red; 2890', 'Red; 3342', 'Red; 2621', 'Red; 3158', 'White-Yellow; 7100', 'White; 10574', 'white; 8930', 'Blue White; 17200', 'Blue White; 14100', 'Blue White; 9675', 'Blue White; 12010', 'Blue White; 10980', 'white; 13720', 'Blue; 19860', 'yellow-white; 5300', 'yellowish; 4526', 'yellowish; 4077', 'Yellowish; 4980', 'Blue-white; 9030', 'Blue-white; 11250', 'Orange-Red; 5112', 'yellow-white; 7720', 'Blue-white; 12098', 'Blue; 36108', 'Blue; 33300', 'Blue; 40000', 'Blue; 23000', 'Blue; 17120', 'Blue; 11096', 'Blue; 14245', 'Blue; 24630', 'Blue; 12893', 'Blue; 24345', 'Blue; 33421', 'Red; 3459', 'Red; 3605', 'Red; 3615', 'Red; 3399', 'Red; 3610', 'Red; 3553', 'Red; 4015', 'Red; 3625', 'Red; 6850', 'Red; 3780', 'Red; 3323', 'Red; 3531', 'Red; 3218', 'Red; 3146', 'Red; 3511', 'Red; 3225', 'Red; 2935', 'Red; 2861', 'Red; 2856', 'Red; 2731', 'Red; 3095', 'Red; 3607', 'Red; 3100', 'Red; 2989', 'Red; 3542', 'Red; 3243', 'Red; 3091', 'Red; 3598', 'Red; 3324', 'Red; 3541', 'Blue White; 13420', 'Blue; 21020', 'Blue; 18290', 'Blue White; 14520', 'Blue white; 11900', 'Blue white; 8924', 'Blue white; 12912', 'white; 14732', 'White; 7723', 'Blue White; 12984', 'Blue-white; 29560', 'Blue-White; 8945', 'Blue-white; 14060', 'Blue-white; 16390', 'Blue-white; 25070', 'Blue-white; 28700', 'Blue-white; 26140', 'Blue-white; 20120', 'Blue-white; 13023', 'Blue; 37800', 'Blue; 25390', 'Blue; 11567', 'Blue; 12675', 'Blue; 5752', 'Blue; 8927', 'Blue; 7282', 'Blue; 19923', 'Blue; 26373', 'Blue; 17383', 'Blue; 9373', 'Red; 3570', 'Red; 3500', 'Orange; 4287', 'Blue; 26000', 'Red; 3600', 'Red; 3614', 'Blue; 18000', 'Blue-white; 11000', 'Blue-white; 12100', 'Blue-white; 24490', 'Red; 2831', 'Red; 2914', 'Red; 3419', 'Red; 3218', 'Red; 3453', 'Red; 2889', 'Red; 2968', 'Red; 3484', 'Red; 2778', 'Red; 3523', 'Red; 3462', 'Red; 3257', 'Red; 2994', 'Red; 3212', 'Red; 3523', 'Red; 3598', 'Red; 3142', 'Red; 3496', 'Red; 3324', 'Red; 3463', 'Blue; 16790', 'Blue; 15680', 'Blue; 14982', 'Blue; 13340', 'Blue; 18340', 'Blue; 19920', 'Blue; 24020', 'Blue; 23092', 'Blue; 17920', 'Blue; 19360', 'Blue-white; 22350', 'Blue-white; 10012', 'Blue-white; 13089', 'Blue-white; 22012', 'Blue; 34190', 'Blue; 32460', 'Blue-white; 9320', 'Blue-white; 19400', 'Blue-white; 17140', 'yellow-white; 8250', 'Blue; 23678', 'Blue; 12749', 'Blue; 9383', 'Blue; 23440', 'Blue; 16787', 'Blue; 18734', 'Blue; 9892', 'Blue; 10930', 'Blue; 23095', 'Blue; 21738', 'Blue-white; 24145', 'Blue; 38234', 'Blue; 32489', 'Blue-white; 27739', 'Blue-white; 21904', 'Blue; 38940', 'Blue; 30839', 'White; 8829', 'White; 9235', 'Blue; 37882']\n"
     ]
    }
   ],
   "source": [
    "print(cat_val(4, 0))"
   ]
  },
  {
   "cell_type": "code",
   "execution_count": 33,
   "metadata": {},
   "outputs": [],
   "source": [
    "# I tuoi dati\n",
    "data_str = cat_val(4, 0)"
   ]
  },
  {
   "cell_type": "code",
   "execution_count": 34,
   "metadata": {},
   "outputs": [],
   "source": [
    "# Elabora ogni stringa per creare una tupla e aggiungila a una nuova lista\n",
    "data = []\n",
    "for elemento in data_str:\n",
    "    colore, temperatura = elemento.split(\"; \")\n",
    "    data.append((colore.strip(), int(temperatura)))"
   ]
  },
  {
   "cell_type": "code",
   "execution_count": 35,
   "metadata": {},
   "outputs": [],
   "source": [
    "# Creiamo un dizionario per sommare le temperature e contare le occorrenze di ciascun colore\n",
    "somme = {}\n",
    "conteggi = {}\n",
    "\n",
    "for colore, temperatura in data:\n",
    "    if colore not in somme:\n",
    "        somme[colore] = 0\n",
    "        conteggi[colore] = 0\n",
    "    somme[colore] += temperatura\n",
    "    conteggi[colore] += 1"
   ]
  },
  {
   "cell_type": "code",
   "execution_count": 36,
   "metadata": {},
   "outputs": [],
   "source": [
    "# Calcoliamo la media per ciascun colore\n",
    "medie = {colore: somma / conteggi[colore] for colore, somma in somme.items()}"
   ]
  },
  {
   "cell_type": "code",
   "execution_count": 37,
   "metadata": {},
   "outputs": [
    {
     "name": "stdout",
     "output_type": "stream",
     "text": [
      "La media per Red è 3292\n",
      "La media per Blue White è 14639\n",
      "La media per White è 8546\n",
      "La media per Yellowish White è 10827\n",
      "La media per Blue white è 10576\n",
      "La media per Pale yellow orange è 7230\n",
      "La media per Blue è 21918\n",
      "La media per Blue-white è 18670\n",
      "La media per Whitish è 8876\n",
      "La media per yellow-white è 6466\n",
      "La media per Orange è 4018\n",
      "La media per White-Yellow è 7100\n",
      "La media per white è 12461\n",
      "La media per yellowish è 4302\n",
      "La media per Yellowish è 4980\n",
      "La media per Orange-Red è 5112\n",
      "La media per Blue-White è 8945\n"
     ]
    }
   ],
   "source": [
    "cor_temperatura = []\n",
    "# Stampiamo le medie\n",
    "for colore, media in medie.items():\n",
    "    media = round(media)\n",
    "    print(f'La media per {colore} è {media}')\n",
    "    linha = str(colore) + ';' + str(media)\n",
    "    cor_temperatura.append(linha)\n"
   ]
  },
  {
   "cell_type": "code",
   "execution_count": 38,
   "metadata": {},
   "outputs": [],
   "source": [
    "csv = ArquivoCSV('./Stars.csv')\n",
    "catg = csv.extrair_coluna(4)"
   ]
  },
  {
   "cell_type": "code",
   "execution_count": 39,
   "metadata": {},
   "outputs": [],
   "source": [
    "data = []\n",
    "with open(file='./base.csv', mode='a', encoding='utf8') as fp:\n",
    "  for x in cor_temperatura:\n",
    "    x = x.split(sep=';')\n",
    "    linha = str(x[0]) + ',' + str(x[1]) + '\\n'\n",
    "    fp.write(linha)\n",
    "    data.append(linha.strip())"
   ]
  },
  {
   "cell_type": "code",
   "execution_count": 40,
   "metadata": {},
   "outputs": [
    {
     "name": "stdout",
     "output_type": "stream",
     "text": [
      "-------------------------- \n",
      " \n",
      "1°  Blue  --> Average temperature 21918 K\n",
      "2°  Blue-white  --> Average temperature 18670 K\n",
      "3°  Blue White  --> Average temperature 14639 K\n",
      "4°  white  --> Average temperature 12461 K\n",
      "5°  Yellowish White  --> Average temperature 10827 K\n",
      "6°  Blue white  --> Average temperature 10576 K\n",
      "7°  Blue-White  --> Average temperature 8945 K\n",
      "8°  Whitish  --> Average temperature 8876 K\n",
      "9°  White  --> Average temperature 8546 K\n",
      "10°  Pale yellow orange  --> Average temperature 7230 K\n",
      "11°  White-Yellow  --> Average temperature 7100 K\n",
      "12°  yellow-white  --> Average temperature 6466 K\n",
      "13°  Orange-Red  --> Average temperature 5112 K\n",
      "14°  Yellowish  --> Average temperature 4980 K\n",
      "15°  yellowish  --> Average temperature 4302 K\n",
      "16°  Orange  --> Average temperature 4018 K\n",
      "17°  Red  --> Average temperature 3292 K\n"
     ]
    }
   ],
   "source": [
    "# Ordina i dati in base alla temperatura (dal più alto al più basso)\n",
    "data.sort(key=lambda x: int(x.split(',')[1]), reverse=True)\n",
    "\n",
    "def smistando(data:list):\n",
    "   ordem = 0\n",
    "   print('-------------------------- \\n ')\n",
    "   for x in data:\n",
    "      x = x.strip().split(sep=',')\n",
    "      ordem = ordem + 1\n",
    "      print(f'{ordem}°  {x[0]}  --> Average temperature {x[1]} K')\n",
    "smistando(data)"
   ]
  }
 ],
 "metadata": {
  "kernelspec": {
   "display_name": "Python 3",
   "language": "python",
   "name": "python3"
  },
  "language_info": {
   "codemirror_mode": {
    "name": "ipython",
    "version": 3
   },
   "file_extension": ".py",
   "mimetype": "text/x-python",
   "name": "python",
   "nbconvert_exporter": "python",
   "pygments_lexer": "ipython3",
   "version": "3.11.5"
  }
 },
 "nbformat": 4,
 "nbformat_minor": 2
}
