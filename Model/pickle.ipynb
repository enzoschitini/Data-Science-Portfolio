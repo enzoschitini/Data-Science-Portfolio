{
 "cells": [
  {
   "cell_type": "code",
   "execution_count": 2,
   "metadata": {},
   "outputs": [],
   "source": [
    "import pandas as pd\n",
    "\n",
    "# Creiamo un piccolo dataframe con alcune caratteristiche e una variabile target\n",
    "data = {\n",
    "    'Feature1': [1, 2, 3, 4, 5],\n",
    "    'Feature2': [10, 20, 30, 40, 50],\n",
    "    'Target': ['A', 'B', 'A', 'B', 'A']\n",
    "}\n",
    "\n",
    "df = pd.DataFrame(data)\n"
   ]
  },
  {
   "cell_type": "code",
   "execution_count": 3,
   "metadata": {},
   "outputs": [
    {
     "name": "stdout",
     "output_type": "stream",
     "text": [
      "Accuratezza del modello: 0.00\n"
     ]
    }
   ],
   "source": [
    "from sklearn.tree import DecisionTreeClassifier\n",
    "from sklearn.model_selection import train_test_split\n",
    "from sklearn.metrics import accuracy_score\n",
    "\n",
    "# Dividiamo il dataframe in dati di addestramento e test\n",
    "X = df[['Feature1', 'Feature2']]\n",
    "y = df['Target']\n",
    "X_train, X_test, y_train, y_test = train_test_split(X, y, test_size=0.2, random_state=42)\n",
    "\n",
    "# Creiamo un'istanza del DecisionTreeClassifier\n",
    "tree_classifier = DecisionTreeClassifier()\n",
    "\n",
    "# Addestriamo il modello sui dati di addestramento\n",
    "tree_classifier.fit(X_train, y_train)\n",
    "\n",
    "# Facciamo previsioni sui dati di test\n",
    "y_pred = tree_classifier.predict(X_test)\n",
    "\n",
    "# Valutiamo l'accuratezza del modello\n",
    "accuracy = accuracy_score(y_test, y_pred)\n",
    "print(f\"Accuratezza del modello: {accuracy:.2f}\")\n"
   ]
  },
  {
   "cell_type": "code",
   "execution_count": 4,
   "metadata": {},
   "outputs": [
    {
     "name": "stdout",
     "output_type": "stream",
     "text": [
      "Modello salvato correttamente in 'decision_tree_model.pkl'\n"
     ]
    }
   ],
   "source": [
    "import pickle\n",
    "\n",
    "# Salva il modello in un file\n",
    "with open('decision_tree_model.pkl', 'wb') as model_file:\n",
    "    pickle.dump(tree_classifier, model_file)\n",
    "\n",
    "print(\"Modello salvato correttamente in 'decision_tree_model.pkl'\")\n"
   ]
  },
  {
   "cell_type": "code",
   "execution_count": 5,
   "metadata": {},
   "outputs": [],
   "source": [
    "import pickle\n",
    "\n",
    "# Carica il modello da file\n",
    "with open('decision_tree_model.pkl', 'rb') as model_file:\n",
    "    loaded_model = pickle.load(model_file)\n"
   ]
  },
  {
   "cell_type": "code",
   "execution_count": 8,
   "metadata": {},
   "outputs": [],
   "source": [
    "new_data = {\n",
    "    'Feature1': [6, 7, 8],\n",
    "    'Feature2': [60, 70, 80]\n",
    "}\n",
    "\n",
    "new_df = pd.DataFrame(new_data)\n"
   ]
  },
  {
   "cell_type": "code",
   "execution_count": 9,
   "metadata": {},
   "outputs": [
    {
     "name": "stdout",
     "output_type": "stream",
     "text": [
      "Dato 1: Classe prevista = A\n",
      "Dato 2: Classe prevista = A\n",
      "Dato 3: Classe prevista = A\n"
     ]
    }
   ],
   "source": [
    "predictions = loaded_model.predict(new_df)\n",
    "\n",
    "# Stampa le previsioni\n",
    "for i, pred in enumerate(predictions):\n",
    "    print(f\"Dato {i+1}: Classe prevista = {pred}\")\n"
   ]
  },
  {
   "cell_type": "code",
   "execution_count": 10,
   "metadata": {},
   "outputs": [
    {
     "name": "stdout",
     "output_type": "stream",
     "text": [
      "   Feature1  Feature2 Target\n",
      "0         6        60      A\n",
      "1         7        70      A\n",
      "2         8        80      A\n"
     ]
    }
   ],
   "source": [
    "# Creiamo un dataframe con i nuovi dati\n",
    "new_data = {\n",
    "    'Feature1': [6, 7, 8],\n",
    "    'Feature2': [60, 70, 80]\n",
    "}\n",
    "\n",
    "new_df = pd.DataFrame(new_data)\n",
    "\n",
    "# Fai previsioni con il modello caricato\n",
    "new_predictions = loaded_model.predict(new_df)\n",
    "\n",
    "# Aggiungi la colonna \"Target\" al dataframe\n",
    "new_df['Target'] = new_predictions\n",
    "\n",
    "# Stampa il dataframe risultante\n",
    "print(new_df)\n"
   ]
  },
  {
   "cell_type": "code",
   "execution_count": 11,
   "metadata": {},
   "outputs": [
    {
     "name": "stdout",
     "output_type": "stream",
     "text": [
      "Accuratezza del modello: 0.00\n"
     ]
    }
   ],
   "source": [
    "import pandas as pd\n",
    "from sklearn.tree import DecisionTreeClassifier\n",
    "from sklearn.model_selection import train_test_split\n",
    "from sklearn.metrics import accuracy_score\n",
    "\n",
    "# Creiamo un piccolo dataframe con alcune caratteristiche e una variabile target\n",
    "data = {\n",
    "    'Feature1': [1, 2, 3, 4, 5],\n",
    "    'Feature2': [10, 20, 30, 40, 50],\n",
    "    'Feature3': ['Macchina', 'Macchina', 'Moto', 'Moto', 'Moto'],\n",
    "    'Target': ['A', 'B', 'A', 'B', 'A']\n",
    "}\n",
    "\n",
    "df = pd.DataFrame(data)\n",
    "\n",
    "# Dividiamo i dati in training set e test set\n",
    "X = df[['Feature1', 'Feature2']]\n",
    "y = df['Target']\n",
    "X_train, X_test, y_train, y_test = train_test_split(X, y, test_size=0.2, random_state=42)\n",
    "\n",
    "# Creiamo il modello DecisionTreeClassifier\n",
    "model = DecisionTreeClassifier()\n",
    "\n",
    "# Addestriamo il modello sul training set\n",
    "model.fit(X_train, y_train)\n",
    "\n",
    "# Effettuiamo le previsioni sul test set\n",
    "y_pred = model.predict(X_test)\n",
    "\n",
    "# Calcoliamo l'accuratezza del modello\n",
    "accuracy = accuracy_score(y_test, y_pred)\n",
    "print(f\"Accuratezza del modello: {accuracy:.2f}\")\n"
   ]
  },
  {
   "cell_type": "code",
   "execution_count": 12,
   "metadata": {},
   "outputs": [],
   "source": [
    "import pickle\n",
    "\n",
    "# Salva il modello in un file\n",
    "with open('decision_tree_model.pkl', 'wb') as model_file:\n",
    "    pickle.dump(model, model_file)\n"
   ]
  },
  {
   "cell_type": "code",
   "execution_count": 13,
   "metadata": {},
   "outputs": [],
   "source": [
    "# Carica il modello da file\n",
    "with open('decision_tree_model.pkl', 'rb') as model_file:\n",
    "    loaded_model = pickle.load(model_file)\n"
   ]
  },
  {
   "cell_type": "code",
   "execution_count": null,
   "metadata": {},
   "outputs": [],
   "source": [
    "data = {\n",
    "    'Feature1': [1, 2, 3, 4, 5],\n",
    "    'Feature2': [12, 15, 100, 12, 15],\n",
    "    'Feature3': ['Moto', 'Macchina', 'Macchina', 'Macchina', 'Moto'],\n",
    "}\n",
    "\n",
    "df = pd.DataFrame(data)"
   ]
  }
 ],
 "metadata": {
  "kernelspec": {
   "display_name": "base",
   "language": "python",
   "name": "python3"
  },
  "language_info": {
   "codemirror_mode": {
    "name": "ipython",
    "version": 3
   },
   "file_extension": ".py",
   "mimetype": "text/x-python",
   "name": "python",
   "nbconvert_exporter": "python",
   "pygments_lexer": "ipython3",
   "version": "3.11.7"
  }
 },
 "nbformat": 4,
 "nbformat_minor": 2
}
