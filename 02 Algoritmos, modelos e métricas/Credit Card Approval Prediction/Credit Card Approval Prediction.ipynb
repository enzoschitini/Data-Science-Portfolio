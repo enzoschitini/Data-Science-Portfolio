{
 "cells": [
  {
   "cell_type": "markdown",
   "metadata": {},
   "source": [
    "# Previsão de Aprovação de Cartão de Crédito: Um Estudo de Machine Learning para Mitigação de Riscos Financeiros\n",
    "\n",
    "<img src=\"https://raw.githubusercontent.com/enzoschitini/Data-Science-Portfolio/main/02%20Algoritmos%2C%20modelos%20e%20m%C3%A9tricas/Credit%20Card%20Approval%20Prediction/image/Capa.png\" alt=\"capa\">\n",
    "\n",
    "---\n",
    "\n",
    "# **Machine Learning** • Credit Card Approval Prediction\n",
    "\n",
    "Bem-vindo(a)!!! Meu nome é Enzo Schitini, sou cientista de dados e neste projeto de \"Previsão de Aprovação de Cartão de Crédito\", utilizamos técnicas de machine learning para desenvolver um modelo capaz de prever a aprovação ou rejeição de solicitações de cartão de crédito. Analisamos dados históricos de clientes, incluindo informações demográficas e financeiras, para identificar padrões que influenciam a decisão de aprovação. \n",
    "\n",
    "Nosso objetivo é fornecer às instituições financeiras uma ferramenta precisa para minimizar riscos de crédito e otimizar o processo de concessão, assegurando que apenas clientes qualificados sejam aprovados.\n",
    "\n",
    "**Data Science** Portfólio | *03 Agosto 2024*\n",
    "\n",
    "[Enzo Schitini](https://www.linkedin.com/in/enzoschitini/) - Data Scientist • Expert Bubble.io • UX & UI @ Nugus creator\n",
    "\n",
    "---"
   ]
  },
  {
   "cell_type": "markdown",
   "metadata": {},
   "source": [
    "## O que você vai encontrar neste notebook? 👋\n",
    "\n",
    "Vamos explorar os dados do *Sistema de Informação sobre Nascidos Vivos (SINASC)* relativos aos recém-nascidos nascidos no estado de Rondônia, Brasil, no ano de 2019. Assim que a análise exploratória for concluída, prosseguiremos para `identificar insights` e avaliar a saúde pública no estado. \n",
    "\n",
    "Usaremos `abordagens estatísticas e analíticas para identificar correlações`, padrões e associações entre variáveis, além disso vamos criar um `Modelo de Machine Learning` para fazer inferências de dados faltantes. \n",
    "\n",
    "#### Os pilares da análise:\n",
    "\n",
    "- Descobrir os fatores que influenciam a saúde dos bebês.\n",
    "- Entender melhor as raças e o nível educacional das mães.\n",
    "- Analisaremos as menores de idade, meninas que constroem família antes dos 18 anos.\n",
    "- O que nos diz a escolha do parto entre cesariana ou parto vaginal?\n",
    "- E finalmente melhor compreender a população do estado de Rondônia no Brasil em 2019 e construir a um pouco do que seria o 'Rosto da população'.\n",
    "\n",
    "*Além disso, exploraremos o impacto das variáveis ​​sociorraciais nas condições de nascimento e nos indivíduos*\n",
    "\n",
    "#### - *Contexto dos Dados*\n",
    "\n",
    "Com o aumento do uso de cartões de crédito, é essencial que as instituições financeiras possam tomar decisões informadas sobre a concessão de crédito. Uma decisão inadequada pode resultar em perdas financeiras significativas, seja pela concessão de crédito a clientes com alta probabilidade de inadimplência, ou pela rejeição de clientes com bom potencial de crédito. A utilização de técnicas de machine learning pode transformar a forma como essas decisões são feitas, tornando o processo mais eficiente e preciso.\n",
    "\n",
    "#### - *Origem dos Dados*\n",
    "\n",
    "<img src=\"\" alt=\"capa\" width=\"310\">\n",
    "\n",
    "> Você pode acessar os dados pelo [kaggle](https://www.kaggle.com/datasets/rikdifos/credit-card-approval-prediction)\n",
    "\n",
    "#### - *Metodologia*\n",
    "\n",
    "A análise será conduzida utilizando técnicas estatísticas e de visualização de dados para identificar padrões e anomalias. Será empregado o Python como ferramentas de manipulação e análise dos dados, na limpeza e preparação dos dados para garantir a qualidade das análises e do modelo de Machine Learning.\n",
    "\n",
    "#### - *Importância do Projeto*"
   ]
  },
  {
   "cell_type": "markdown",
   "metadata": {},
   "source": [
    "# 🔥 Vamos começar!!!\n",
    "\n",
    "### **`Tópicos`**\n",
    "\n",
    "<ol type=\"1\">\n",
    "  <li>Preparação do ambiente de desenvolvimento</li>\n",
    "  <li>Estrutura e tratamento dos dados e colunas</li>\n",
    "  <li>Visualização</li>\n",
    "  <li>Métricas</li>\n",
    "  <li>✨ Insights ✨</li>\n",
    "</ol>\n",
    "\n",
    "---"
   ]
  },
  {
   "cell_type": "markdown",
   "metadata": {},
   "source": [
    "# Preparação do ambiente de desenvolvimento"
   ]
  },
  {
   "cell_type": "markdown",
   "metadata": {},
   "source": [
    "### Importando os pacotes"
   ]
  },
  {
   "cell_type": "code",
   "execution_count": null,
   "metadata": {},
   "outputs": [],
   "source": [
    "import pandas as pd\n",
    "import numpy as np\n",
    "\n",
    "import matplotlib.pyplot as plt\n",
    "import plotly.express as px\n",
    "import seaborn as sns\n",
    "\n",
    "from scipy.stats import chi2_contingency\n",
    "import missingno as msno\n",
    "pd.set_option('display.max_columns', None)"
   ]
  },
  {
   "cell_type": "markdown",
   "metadata": {},
   "source": [
    "### Códigos em python"
   ]
  },
  {
   "cell_type": "markdown",
   "metadata": {},
   "source": [
    "### Funções que vamos usar para gerar os gráficos da análise"
   ]
  },
  {
   "cell_type": "code",
   "execution_count": null,
   "metadata": {},
   "outputs": [],
   "source": [
    "def Heatmap_Default(contingency_table):\n",
    "    # Converter a tabela de contingência em um formato adequado para o Plotly\n",
    "    #heatmap_data = contingency_table.reset_index().melt(id_vars='CODE_GENDER', var_name='Default', value_name='Count')\n",
    "\n",
    "    # Criar o heatmap\n",
    "    fig = px.imshow(\n",
    "        contingency_table,\n",
    "        text_auto=True,\n",
    "        aspect='auto',\n",
    "        labels={'x': 'Default', 'y': 'CODE_GENDER', 'color': 'Count'},\n",
    "        color_continuous_scale = [\"red\", \"yellow\", \"green\"],\n",
    "        title='Heatmap entre Default e CODE_GENDER'\n",
    "    )\n",
    "    fig.update_layout(title = \"<b> Vendas de boba </b>\",\n",
    "                        coloraxis_showscale = False)\n",
    "\n",
    "    # Mostrar o gráfico\n",
    "    fig.show()\n",
    "    \n",
    "    # Heatmap_Default(pd.crosstab(df['NAME_INCOME_TYPE'], df['Default']))"
   ]
  },
  {
   "cell_type": "markdown",
   "metadata": {},
   "source": [
    "### Carregando os Datasets"
   ]
  },
  {
   "cell_type": "code",
   "execution_count": null,
   "metadata": {},
   "outputs": [],
   "source": [
    "df = pd.read_csv('Data/Credit Card Approval Prediction.csv').drop(columns=['Unnamed: 0', 'ID'])\n",
    "df.head()"
   ]
  },
  {
   "cell_type": "markdown",
   "metadata": {},
   "source": [
    "# Análise Exploratória\n",
    "\n",
    "Na minha opinião, a análise exploratória é uma das fases mais importantes de qualquer projeto que lide com dados. Aqui o objetivo é entender o contexto em que trabalharemos e como são os dados que temos que explorar, para termos toda uma documentação que precisaremos para criar os próximos algoritmos, mesmo os de Machine Learning. Acredito que mesmo nesta fase já podemos encontrar alguns Insights."
   ]
  },
  {
   "cell_type": "markdown",
   "metadata": {},
   "source": [
    "## Estrutura e tratamento dos dados e colunas"
   ]
  },
  {
   "cell_type": "code",
   "execution_count": null,
   "metadata": {},
   "outputs": [],
   "source": [
    "df.drop_duplicates(inplace=True)"
   ]
  },
  {
   "cell_type": "code",
   "execution_count": null,
   "metadata": {},
   "outputs": [],
   "source": [
    "def status_dataframe(dataframe:pd.DataFrame):\n",
    "    df_columns_name = dataframe.columns.to_list()\n",
    "\n",
    "    types_list = [str(type(dataframe[col][0])).split(\"'\")[1] for col in dataframe.columns]\n",
    "    lista_categorias = [dataframe[col].nunique() for col in dataframe.columns]\n",
    "\n",
    "    elementos_nulos = elementos_nulos = dataframe.isnull().sum()\n",
    "    elementos_nulos = elementos_nulos.to_list()\n",
    "\n",
    "    percentagem_dados_nulos = round((dataframe.isnull().sum() / dataframe.shape[0]) * 100)\n",
    "    percentagem_dados_nulos = percentagem_dados_nulos.to_list()\n",
    "\n",
    "    print(f'Esse datafame contém {dataframe.shape[1]} colunas e {dataframe.shape[0]} linhas')\n",
    "\n",
    "    dados_status = pd.DataFrame({'Nome': df_columns_name, \n",
    "                            'Tipo': types_list, \n",
    "                            'qnt_categorias': lista_categorias,\n",
    "                            'Dados nulos' : elementos_nulos,\n",
    "                            'Dados nulos %' : percentagem_dados_nulos})\n",
    "    return dados_status\n",
    "\n",
    "display(status_dataframe(df))\n",
    "display(df.head())"
   ]
  },
  {
   "cell_type": "markdown",
   "metadata": {},
   "source": [
    "## **Análise das colunas do dataset:**\n",
    "\n",
    "O dataset parece conter informações sobre clientes de um banco, com foco em dados demográficos, financeiros e de trabalho, além de uma coluna que indica se o cliente teve ou não um default (inadimplência) em seus pagamentos. Vamos analisar cada coluna:\n",
    "\n",
    "---\n",
    "\n",
    "**1. Variáveis Demográficas:**\n",
    "\n",
    "- **CODE_GENDER:**  Gênero do cliente (M - Masculino, F - Feminino)\n",
    "- **FLAG*OWN*CAR:** Indica se o cliente possui carro (Y - Sim, N - Não)\n",
    "- **FLAG*OWN*REALTY:** Indica se o cliente possui imóvel próprio (Y - Sim, N - Não)\n",
    "- **CNT_CHILDREN:** Número de filhos do cliente\n",
    "- **DAYS_BIRTH:** Número de dias desde o nascimento do cliente. (Valores negativos indicam que o cliente nasceu antes da data de referência, provavelmente a data da coleta dos dados)\n",
    "- **CNT*FAM*MEMBERS:** Número de membros da família do cliente\n",
    "\n",
    "---\n",
    "\n",
    "**2. Variáveis Financeiras:**\n",
    "\n",
    "- **AMT*INCOME*TOTAL:** Renda total anual do cliente.\n",
    "\n",
    "---\n",
    "\n",
    "**3. Variáveis de Trabalho:**\n",
    "\n",
    "- **NAME*INCOME*TYPE:** Tipo de renda do cliente (ex: Working, Commercial associate, Pensioner)\n",
    "- **NAME*EDUCATION*TYPE:** Nível de escolaridade do cliente (ex: Higher education, Secondary / secondary special)\n",
    "- **NAME*FAMILY*STATUS:** Estado civil do cliente (ex: Married, Single / not married, Civil marriage)\n",
    "- **NAME*HOUSING*TYPE:** Tipo de moradia do cliente (ex: House / apartment, Rented apartment, With parents)\n",
    "- **DAYS_EMPLOYED:** Número de dias desde o início do emprego atual do cliente. (Valores negativos indicam que o cliente está empregado antes da data de referência, provavelmente a data da coleta dos dados)\n",
    "\n",
    "---\n",
    "\n",
    "**4. Variáveis de Comunicação:**\n",
    "\n",
    "- **FLAG_MOBIL:** Indica se o cliente possui telefone móvel (1 - Sim, 0 - Não)\n",
    "- **FLAG*WORK*PHONE:** Indica se o cliente possui telefone comercial (1 - Sim, 0 - Não)\n",
    "- **FLAG_PHONE:** Indica se o cliente possui telefone fixo (1 - Sim, 0 - Não)\n",
    "- **FLAG_EMAIL:** Indica se o cliente possui email (1 - Sim, 0 - Não)\n",
    "\n",
    "---\n",
    "\n",
    "**5. Variável de Ocupação:**\n",
    "\n",
    "- **OCCUPATION_TYPE:** Tipo de ocupação do cliente (ex: Security staff, Sales staff, etc.)\n",
    "\n",
    "---\n",
    "\n",
    "**6. Variável Alvo:**\n",
    "\n",
    "- ***Default:**  Indica se o cliente teve* default* (inadimplência) em seus pagamentos (1 - Sim, 0 - Não)\n",
    "\n",
    "---"
   ]
  },
  {
   "cell_type": "markdown",
   "metadata": {},
   "source": [
    "## Dados faltantes"
   ]
  },
  {
   "cell_type": "code",
   "execution_count": null,
   "metadata": {},
   "outputs": [],
   "source": [
    "msno.matrix(df)"
   ]
  },
  {
   "cell_type": "markdown",
   "metadata": {},
   "source": [
    "---\n",
    "\n",
    "**5. Variável de Ocupação:**\n",
    "\n",
    "- **OCCUPATION_TYPE:** Tipo de ocupação do cliente (ex: Security staff, Sales staff, etc.)\n",
    "\n",
    "| Nome                 | Tipo           | qnt_categorias | Dados nulos | Dados nulos % |\n",
    "|----------------------|----------------|----------------|-------------|---------------|\n",
    "| OCCUPATION_TYPE      | float          | 18             | 28967       | 30.0          |\n",
    "\n",
    "Esta coluna contém 30% dos dados nulos e eles estão bastante espalhados pelo conjunto de dados\n",
    "---"
   ]
  },
  {
   "cell_type": "markdown",
   "metadata": {},
   "source": [
    "### Se apagarmos essas coluna e linhas?"
   ]
  },
  {
   "cell_type": "code",
   "execution_count": null,
   "metadata": {},
   "outputs": [],
   "source": [
    "# Remover linhas com valores nulos:\n",
    "df_linha_OCCUPATION_TYPE = df.dropna()\n",
    "print(df_linha_OCCUPATION_TYPE.shape)\n",
    "\n",
    "# Remover colunas com valores nulos:\n",
    "df_coluna_OCCUPATION_TYPE = df.dropna(axis=1)\n",
    "print(df_coluna_OCCUPATION_TYPE.shape)"
   ]
  },
  {
   "cell_type": "markdown",
   "metadata": {},
   "source": [
    "### O que podemos fazer quanto aos dados nulos?"
   ]
  },
  {
   "cell_type": "code",
   "execution_count": null,
   "metadata": {},
   "outputs": [],
   "source": [
    "pd.DataFrame(round(df['OCCUPATION_TYPE'].value_counts(normalize=True) * 100))"
   ]
  },
  {
   "cell_type": "markdown",
   "metadata": {},
   "source": [
    "## Engenharia de atributos\n",
    "Com base nas colunas existentes, podemos criar novas colunas (atributos) para melhorar a qualidade dos dados e aprimorar o modelo de machine learning:"
   ]
  },
  {
   "cell_type": "markdown",
   "metadata": {},
   "source": [
    "**1. Transformando Datas em Informações Úteis:**\n",
    "\n",
    "- **AGE:** Criar uma coluna 'AGE' calculando a idade do cliente a partir de `DAYS_BIRTH` (dividindo por 365).\n",
    "- **YEARS*EMPLOYED:** Criar uma coluna 'YEARS*EMPLOYED' calculando o tempo de emprego do cliente a partir de `DAYS_EMPLOYED` (dividindo por 365).\n",
    "- **AGE*AT*EMPLOYMENT:** Criar uma coluna calculando a idade do cliente no momento em que ele começou a trabalhar (AGE - YEARS_EMPLOYED)."
   ]
  },
  {
   "cell_type": "code",
   "execution_count": null,
   "metadata": {},
   "outputs": [],
   "source": [
    "df['AGE'] = round(abs(df['DAYS_BIRTH'] / 365))\n",
    "df['AGE'] = df['AGE'].astype(int)"
   ]
  },
  {
   "cell_type": "code",
   "execution_count": null,
   "metadata": {},
   "outputs": [],
   "source": [
    "df['YEARS_EMPLOYED'] = round(abs(df['DAYS_EMPLOYED'] / 365))\n",
    "df['YEARS_EMPLOYED'] = df['YEARS_EMPLOYED'].astype(int)"
   ]
  },
  {
   "cell_type": "code",
   "execution_count": null,
   "metadata": {},
   "outputs": [],
   "source": [
    "df['AGEATEMPLOYMENT'] = df['AGE'] - df['YEARS_EMPLOYED']"
   ]
  },
  {
   "cell_type": "markdown",
   "metadata": {},
   "source": [
    "**2. Combinando Variáveis Categoricas:**\n",
    "\n",
    "- **INCOME*TYPE*EDUCATION:** Criar uma coluna combinando `NAME[i]INCOME[/i]TYPE` e `NAME[i]EDUCATION[/i]TYPE`, para identificar grupos de clientes com características semelhantes."
   ]
  },
  {
   "cell_type": "markdown",
   "metadata": {},
   "source": [
    "**3. Criando Indicadores Financeiros:**\n",
    "\n",
    "- **INCOME*PER*FAMILY*MEMBER:** Criar uma coluna calculando a renda per capita da família, dividindo* `AMT` INCOME[i]TOTAL *por* `CNT` FAM_MEMBERS\n",
    "- **INCOME*RATIO*TO_CHILDREN:** Criar uma coluna calculando a razão entre a renda total e o número de filhos, para identificar o peso da renda familiar por filho."
   ]
  },
  {
   "cell_type": "code",
   "execution_count": null,
   "metadata": {},
   "outputs": [],
   "source": [
    "df['INCOMEPERFAMILY_MEMBER'] = df['AMT_INCOME_TOTAL'] / df['CNT_FAM_MEMBERS']"
   ]
  },
  {
   "cell_type": "code",
   "execution_count": null,
   "metadata": {},
   "outputs": [],
   "source": [
    "df['INCOMERATIOTO_CHILDREN'] = df['AMT_INCOME_TOTAL'] / df['CNT_CHILDREN']"
   ]
  },
  {
   "cell_type": "markdown",
   "metadata": {},
   "source": [
    "**4. Criando Indicadores de Perfil:**\n",
    "\n",
    "- **HAS*EMAIL*AND_PHONE:** Criar uma coluna que indique se o cliente possui email e telefone, para identificar clientes com maior conectividade."
   ]
  },
  {
   "cell_type": "code",
   "execution_count": null,
   "metadata": {},
   "outputs": [],
   "source": [
    "def HASEMAILAND_PHONE(valor1, valor2):\n",
    "    if valor1 == 1 and valor2 == 1:\n",
    "        return 1\n",
    "    else:\n",
    "        return 0\n",
    "\n",
    "df['HASEMAILAND_PHONE'] = df.apply(lambda row: HASEMAILAND_PHONE(row['FLAG_EMAIL'], row['FLAG_PHONE']), axis=1)"
   ]
  },
  {
   "cell_type": "markdown",
   "metadata": {},
   "source": [
    "**5. Criando Indicadores de Risco:**\n",
    "\n",
    "- ***AGEATDEFAULT:** Criar uma coluna calculando a idade do cliente no momento do* default\n",
    "- ***YEARSEMPLOYEDAT_DEFAULT:** Criar uma coluna calculando o tempo de emprego do cliente no momento do* default"
   ]
  },
  {
   "cell_type": "code",
   "execution_count": null,
   "metadata": {},
   "outputs": [],
   "source": []
  },
  {
   "cell_type": "markdown",
   "metadata": {},
   "source": [
    "### Ordenando as colunas"
   ]
  },
  {
   "cell_type": "code",
   "execution_count": null,
   "metadata": {},
   "outputs": [],
   "source": [
    "df = df[[\n",
    "    # 1. Variáveis Demográficas:\n",
    "    'CODE_GENDER', 'FLAG_OWN_CAR', 'FLAG_OWN_REALTY', 'CNT_CHILDREN',\n",
    "    'DAYS_BIRTH', 'CNT_FAM_MEMBERS', 'AGE', 'AGEATEMPLOYMENT',\n",
    "\n",
    "    # 2. Variáveis Financeiras:\n",
    "    'AMT_INCOME_TOTAL', 'INCOMEPERFAMILY_MEMBER', 'INCOMERATIOTO_CHILDREN',\n",
    "\n",
    "    # 3. Variáveis de Trabalho:\n",
    "    'NAME_INCOME_TYPE', 'NAME_EDUCATION_TYPE', 'NAME_FAMILY_STATUS', \n",
    "    'NAME_HOUSING_TYPE', 'DAYS_EMPLOYED', 'YEARS_EMPLOYED', 'OCCUPATION_TYPE',\n",
    "\n",
    "    # 4. Variáveis de Comunicação:\n",
    "    'FLAG_MOBIL', 'FLAG_WORK_PHONE', 'FLAG_PHONE', 'FLAG_EMAIL', 'HASEMAILAND_PHONE',\n",
    "\n",
    "    # 5. Variável de Ocupação:\n",
    "    'Default'\n",
    "    ]]\n",
    "\n",
    "df.head()"
   ]
  },
  {
   "cell_type": "markdown",
   "metadata": {},
   "source": [
    "## Reparando as colunas do data frame\n",
    "Para cada coluna de nossos conjuntos de dados, transformaremos agora aquelas que são do tipo str para category. Desta forma podemos economizar espaço de memória e ter melhor desempenho na execução do algoritmo"
   ]
  },
  {
   "cell_type": "code",
   "execution_count": null,
   "metadata": {},
   "outputs": [],
   "source": [
    "category_list = list(df.select_dtypes('object').columns)\n",
    "pd.DataFrame(df.select_dtypes('object').columns)"
   ]
  },
  {
   "cell_type": "code",
   "execution_count": null,
   "metadata": {},
   "outputs": [],
   "source": [
    "for col in category_list:\n",
    "    df[col] = df[col].astype('category')"
   ]
  },
  {
   "cell_type": "code",
   "execution_count": null,
   "metadata": {},
   "outputs": [],
   "source": [
    "pd.DataFrame(df.dtypes)"
   ]
  },
  {
   "cell_type": "code",
   "execution_count": null,
   "metadata": {},
   "outputs": [],
   "source": []
  },
  {
   "cell_type": "markdown",
   "metadata": {},
   "source": [
    "## **Boxplot:** para visualizar a distribuição de cada variável numérica e identificar outliers"
   ]
  },
  {
   "cell_type": "code",
   "execution_count": null,
   "metadata": {},
   "outputs": [],
   "source": [
    "def boxploy_plotly(numeric_cols):\n",
    "    # Selecione apenas as colunas numéricas fornecidas\n",
    "    df_filtered = df[numeric_cols]\n",
    "\n",
    "    # Crie um boxplot para cada coluna numérica\n",
    "    fig = px.box(df_filtered, y=numeric_cols, title='Boxplot das Colunas Numéricas')\n",
    "\n",
    "    # Ajuste o layout para fundo branco\n",
    "    fig.update_layout(\n",
    "        paper_bgcolor='white',  # Fundo da área fora do gráfico\n",
    "        plot_bgcolor='white'    # Fundo da área onde os dados são plotados\n",
    "    )\n",
    "\n",
    "    # Exiba o gráfico\n",
    "    fig.show()"
   ]
  },
  {
   "cell_type": "code",
   "execution_count": null,
   "metadata": {},
   "outputs": [],
   "source": [
    "df.select_dtypes('number').head(5).T\n",
    "boxploy_plotly(['AGEATEMPLOYMENT', 'CNT_FAM_MEMBERS', 'CNT_CHILDREN'])\n",
    "boxploy_plotly(['AMT_INCOME_TOTAL', 'INCOMEPERFAMILY_MEMBER'])\n",
    "boxploy_plotly(['AGE', 'YEARS_EMPLOYED'])"
   ]
  },
  {
   "cell_type": "markdown",
   "metadata": {},
   "source": [
    "**AGEATEMPLOYMENT**"
   ]
  },
  {
   "cell_type": "code",
   "execution_count": null,
   "metadata": {},
   "outputs": [],
   "source": [
    "df[df['AGEATEMPLOYMENT'] > -932]['AGEATEMPLOYMENT'].mean()"
   ]
  },
  {
   "cell_type": "code",
   "execution_count": null,
   "metadata": {},
   "outputs": [],
   "source": [
    "df[df['AGEATEMPLOYMENT'] < -932].shape[0] / df.shape[0] * 100"
   ]
  },
  {
   "cell_type": "markdown",
   "metadata": {},
   "source": [
    "**YEARS_EMPLOYED**"
   ]
  },
  {
   "cell_type": "code",
   "execution_count": null,
   "metadata": {},
   "outputs": [],
   "source": [
    "df[df['YEARS_EMPLOYED'] >= 1001]['YEARS_EMPLOYED'].mean()"
   ]
  },
  {
   "cell_type": "code",
   "execution_count": null,
   "metadata": {},
   "outputs": [],
   "source": [
    "df[df['YEARS_EMPLOYED'] >= 1001].shape[0] / df.shape[0] * 100"
   ]
  },
  {
   "cell_type": "markdown",
   "metadata": {},
   "source": [
    "## Métricas e correlação"
   ]
  },
  {
   "cell_type": "markdown",
   "metadata": {},
   "source": [
    "**Métricas Básicas:**\n",
    "\n",
    "- Média, mediana, desvio padrão, mínimo, máximo, quartis para todas as variáveis numéricas.\n",
    "- Frequências absolutas e relativas para variáveis categóricas.\n",
    "- Correlação de Pearson (para variáveis numéricas) para identificar relações lineares.\n",
    "- Coeficiente de Cramer (para variáveis categóricas) para identificar relações não lineares."
   ]
  },
  {
   "cell_type": "markdown",
   "metadata": {},
   "source": [
    "### Média, mediana, desvio padrão, mínimo, máximo, quartis"
   ]
  },
  {
   "cell_type": "code",
   "execution_count": null,
   "metadata": {},
   "outputs": [],
   "source": [
    "display(df.select_dtypes('number').describe().T)\n",
    "display(df.select_dtypes('category').describe().T)"
   ]
  },
  {
   "cell_type": "markdown",
   "metadata": {},
   "source": [
    "### Frequências absolutas e relativas para variáveis categóricas"
   ]
  },
  {
   "cell_type": "code",
   "execution_count": null,
   "metadata": {},
   "outputs": [],
   "source": [
    "# Função para calcular frequências absolutas e relativas\n",
    "def calc_frequencies(df, column):\n",
    "    abs_freq = df[column].value_counts()\n",
    "    rel_freq = df[column].value_counts(normalize=True) * 100  # Percentual\n",
    "    freq_df = pd.DataFrame({\n",
    "        'Frequência Absoluta': abs_freq,\n",
    "        'Frequência Relativa (%)': rel_freq\n",
    "    })\n",
    "    return freq_df\n",
    "\n",
    "# Aplicar a função para todas as variáveis categóricas\n",
    "categorical_columns = ['CODE_GENDER', 'FLAG_OWN_CAR', 'FLAG_OWN_REALTY', 'NAME_INCOME_TYPE', \n",
    "                       'NAME_EDUCATION_TYPE', 'NAME_FAMILY_STATUS', 'NAME_HOUSING_TYPE', 'OCCUPATION_TYPE']\n",
    "\n",
    "for col in categorical_columns:\n",
    "    print(f\"\\nFrequências para a variável '{col}':\")\n",
    "    print(calc_frequencies(df, col))"
   ]
  },
  {
   "cell_type": "markdown",
   "metadata": {},
   "source": [
    "### Correlação de Pearson (para variáveis numéricas) para identificar relações lineares"
   ]
  },
  {
   "cell_type": "code",
   "execution_count": null,
   "metadata": {},
   "outputs": [],
   "source": [
    "plt.rcParams['xtick.labelsize'] = 10\n",
    "plt.rcParams['ytick.labelsize'] = 10\n",
    "plt.rcParams['font.size'] = 10 \n",
    "plt.rcParams['axes.titlesize'] = 20\n",
    "plt.rcParams[\"figure.figsize\"] = [15, 10]\n",
    "plt.rcParams[\"figure.autolayout\"] = True\n",
    "sns.heatmap(df.select_dtypes('number').corr(), annot=True)\n",
    "plt.show()"
   ]
  },
  {
   "cell_type": "markdown",
   "metadata": {},
   "source": [
    "### Coeficiente de Cramer (para variáveis categóricas) para identificar relações não lineares"
   ]
  },
  {
   "cell_type": "code",
   "execution_count": null,
   "metadata": {},
   "outputs": [],
   "source": [
    "# Função para calcular o coeficiente de Cramer\n",
    "def cramer_v(x, y):\n",
    "    crosstab = pd.crosstab(x, y)\n",
    "    chi2_stat = chi2_contingency(crosstab)[0]\n",
    "    n = crosstab.sum().sum()\n",
    "    k = min(crosstab.shape) - 1\n",
    "    return np.sqrt(chi2_stat / (n * k))\n",
    "\n",
    "# Calcular o coeficiente de Cramer para todas as combinações de variáveis categóricas\n",
    "categorical_columns = ['CODE_GENDER', 'FLAG_OWN_CAR', 'FLAG_OWN_REALTY', 'NAME_INCOME_TYPE', \n",
    "                       'NAME_EDUCATION_TYPE', 'NAME_FAMILY_STATUS', 'NAME_HOUSING_TYPE', 'OCCUPATION_TYPE']\n",
    "\n",
    "# Criar uma matriz de coeficientes\n",
    "cramer_matrix = pd.DataFrame(index=categorical_columns, columns=categorical_columns)\n",
    "\n",
    "for i in range(len(categorical_columns)):\n",
    "    for j in range(len(categorical_columns)):\n",
    "        if i != j:\n",
    "            var1 = categorical_columns[i]\n",
    "            var2 = categorical_columns[j]\n",
    "            cramer_matrix.iloc[i, j] = cramer_v(df[var1], df[var2])\n",
    "        else:\n",
    "            cramer_matrix.iloc[i, j] = np.nan  # Diagonal principal\n",
    "\n",
    "# Converter os valores para float\n",
    "cramer_matrix = cramer_matrix.astype(float)\n",
    "\n",
    "# Plotar a matriz de correlação de Cramer\n",
    "plt.figure(figsize=(10, 8))\n",
    "sns.heatmap(cramer_matrix, annot=True, cmap='coolwarm', center=0, vmin=0, vmax=1, fmt='.2f', \n",
    "            cbar_kws={'label': 'Coeficiente de Cramer'})\n",
    "plt.title('Matriz de Coeficiente de Cramer')\n",
    "plt.show()"
   ]
  },
  {
   "cell_type": "markdown",
   "metadata": {},
   "source": [
    "### Explicação:\n",
    "1. **Função `cramer_v`:** Calcula o coeficiente de Cramer para duas variáveis categóricas.\n",
    "2. **Matriz de Coeficientes:** Calcula o coeficiente de Cramer para todas as combinações de variáveis categóricas e armazena os resultados em uma matriz.\n",
    "3. **Plotagem:** Usa `seaborn` para criar um heatmap da matriz de coeficientes de Cramer, com anotações, uma barra de cor e uma escala de cores que vai de 0 a 1."
   ]
  },
  {
   "cell_type": "markdown",
   "metadata": {},
   "source": [
    "## Visualização"
   ]
  },
  {
   "cell_type": "markdown",
   "metadata": {},
   "source": [
    "**Gráficos:**\n",
    "\n",
    "- **Histograma:** para visualizar a distribuição de cada variável numérica**.**\n",
    "- **Boxplot:** para visualizar a distribuição de cada variável numérica e identificar outliers.\n",
    "- **Gráfico de Barras:** para visualizar a frequência de cada categoria em variáveis categóricas.\n",
    "- **Gráfico de Dispersão:** para visualizar a relação entre duas variáveis numéricas.\n",
    "- **Matriz de Correlação:** para visualizar a correlação entre todas as variáveis numéricas.\n",
    "- **Gráfico de Proporção:** para visualizar a proporção de inadimplentes (variável \"Default\") para cada categoria de variáveis categóricas."
   ]
  },
  {
   "cell_type": "markdown",
   "metadata": {},
   "source": [
    "### **Histograma:** para visualizar a distribuição de cada variável numérica"
   ]
  },
  {
   "cell_type": "code",
   "execution_count": null,
   "metadata": {},
   "outputs": [],
   "source": [
    "def histplot(col):\n",
    "    plt.figure(figsize=[10, 5])  # Corrigido para definir o tamanho da figura\n",
    "    sns.histplot(df[col], bins=10, kde=True)\n",
    "    \n",
    "    plt.title(f'Histograma {col}')\n",
    "    plt.xlabel('Valores')\n",
    "    plt.ylabel('Frequência')\n",
    "    plt.show()\n",
    "\n",
    "for col in df.select_dtypes('number'):\n",
    "    histplot(col)"
   ]
  },
  {
   "cell_type": "markdown",
   "metadata": {},
   "source": [
    "### **Boxplot:** para visualizar a distribuição de cada variável numérica e identificar outliers"
   ]
  },
  {
   "cell_type": "code",
   "execution_count": null,
   "metadata": {},
   "outputs": [],
   "source": [
    "boxploy_plotly(['AGEATEMPLOYMENT', 'CNT_FAM_MEMBERS', 'CNT_CHILDREN'])\n",
    "boxploy_plotly(['AMT_INCOME_TOTAL', 'INCOMEPERFAMILY_MEMBER'])\n",
    "boxploy_plotly(['AGE', 'YEARS_EMPLOYED'])"
   ]
  },
  {
   "cell_type": "markdown",
   "metadata": {},
   "source": [
    "### **Gráfico de Barras:** para visualizar a frequência de cada categoria em variáveis categóricas"
   ]
  },
  {
   "cell_type": "code",
   "execution_count": null,
   "metadata": {},
   "outputs": [],
   "source": []
  },
  {
   "cell_type": "markdown",
   "metadata": {},
   "source": [
    "### **Gráfico de Dispersão:** para visualizar a relação entre duas variáveis numéricas"
   ]
  },
  {
   "cell_type": "code",
   "execution_count": null,
   "metadata": {},
   "outputs": [],
   "source": []
  },
  {
   "cell_type": "markdown",
   "metadata": {},
   "source": [
    "### **Gráfico de Proporção:** para visualizar a proporção de inadimplentes (variável \"Default\") para cada categoria de variáveis categóricas"
   ]
  },
  {
   "cell_type": "code",
   "execution_count": null,
   "metadata": {},
   "outputs": [],
   "source": []
  },
  {
   "cell_type": "markdown",
   "metadata": {},
   "source": [
    "# ✨ Insights ✨\n",
    "\n",
    "Agora compreendemos melhor os dados que temos à nossa disposição para podermos realizar análises mais precisas, levando em consideração todas as nuances relativas aos dados, para obter os melhore Insights.\n",
    "\n",
    "<img src=\"https://raw.githubusercontent.com/enzoschitini/Data-Science-Portfolio/main/02%20Algoritmos%2C%20modelos%20e%20m%C3%A9tricas/Credit%20Card%20Approval%20Prediction/image/Capa.png\" alt=\"capa\">\n",
    "\n",
    "---\n",
    "\n",
    "# **Machine Learning Insight** • Credit Card Approval Prediction\n",
    "\n",
    "Finalmente, aqui estamos no auge da nossa análise, o momento em que partimos para encontrar os insights que estão presos nos dados e trazê-los à tona. Além disso, depois de encontrá-los, temos que entendê-los e conectá-los ao contexto de onde se originam.\n",
    "\n",
    "---"
   ]
  },
  {
   "cell_type": "markdown",
   "metadata": {},
   "source": [
    "# Como a análise será realizada:"
   ]
  },
  {
   "cell_type": "markdown",
   "metadata": {},
   "source": [
    "### **`Nossos objetivos`**\n",
    "\n",
    "<ol type=\"1\">\n",
    "  <li>-----------</li>\n",
    "</ol>\n",
    "\n",
    "---"
   ]
  },
  {
   "cell_type": "code",
   "execution_count": null,
   "metadata": {},
   "outputs": [],
   "source": []
  },
  {
   "cell_type": "code",
   "execution_count": null,
   "metadata": {},
   "outputs": [],
   "source": []
  },
  {
   "cell_type": "code",
   "execution_count": null,
   "metadata": {},
   "outputs": [],
   "source": []
  },
  {
   "cell_type": "code",
   "execution_count": null,
   "metadata": {},
   "outputs": [],
   "source": []
  },
  {
   "cell_type": "code",
   "execution_count": null,
   "metadata": {},
   "outputs": [],
   "source": []
  },
  {
   "cell_type": "code",
   "execution_count": null,
   "metadata": {},
   "outputs": [],
   "source": []
  },
  {
   "cell_type": "markdown",
   "metadata": {},
   "source": [
    "<img src=\"https://raw.githubusercontent.com/enzoschitini/Data-Science-Portfolio/main/01%20An%C3%A1lise%20explorat%C3%B3ria%20e%20limpeza%20de%20dados/Sinasc/image/1.jpg\" alt=\"capa\" width=\"100\">\n",
    "\n",
    "#### [Enzo Schitini](www.linkedin.com/in/enzoschitini)\n",
    "#### Data Scientist • Expert Bubble.io • UX & UI @ Nugus creator\n",
    "\n",
    "<img src=\"https://raw.githubusercontent.com/enzoschitini/Data-Science-Portfolio/main/01%20An%C3%A1lise%20explorat%C3%B3ria%20e%20limpeza%20de%20dados/Sinasc/image/Group%201321314401.png\" alt=\"capa\" width=\"55\">\n",
    "\n",
    " Meu nome é Enzo Schitini, tenho 19 anos. Sou cientista e analista de dados com Python, especialista no desenvolvimento de aplicações Web/Mobile com Bubble, além de planejar e criar interfaces UX & Ui.\n",
    "\n",
    "Normalmente, para cada projeto que faço, tento usar essas três habilidades (Data Science, Bubble e UX & Ui) juntas, assim consigo por exemplo desenvolver:\n",
    "\n",
    "- Storytelling com dados usando UX e UI\n",
    "- Aplicações Data Driven\n",
    "- Sites, aplicativos e platafosmas web\n",
    "- Modelos de Machine Learning (Classificação, Classificação e Clusterização)\n",
    "- Extrair insights dos dados e realizar análises profundas (análises descritivas, diagnósticas, preditivas, e até prescritivas)\n",
    "- Sistemas que oferecem visualização e interfaces avançadas\n",
    "- Plataformas de gerenciamento de dados\n",
    "\n",
    "E muito mais, combinando o melhor dos três mundos. \n",
    "\n",
    "Desde os 12 anos, quando estudei robótica, adoro desenvolver softwares. Sempre valorizei o aprendizado prático, com projetos que me ensinaram que depois de horas de dedicação, comprometimento e muita paciência (coisas que fazem parte do processo) é possível alcançar um objetivo.\n",
    "\n",
    "Hoje, anos depois, muitas coisas mudaram, mas a vontade de desafiar a minha criatividade e ir cada vez mais longe continua viva. 🔥"
   ]
  }
 ],
 "metadata": {
  "kernelspec": {
   "display_name": "base",
   "language": "python",
   "name": "python3"
  },
  "language_info": {
   "codemirror_mode": {
    "name": "ipython",
    "version": 3
   },
   "file_extension": ".py",
   "mimetype": "text/x-python",
   "name": "python",
   "nbconvert_exporter": "python",
   "pygments_lexer": "ipython3",
   "version": "3.11.7"
  }
 },
 "nbformat": 4,
 "nbformat_minor": 2
}
