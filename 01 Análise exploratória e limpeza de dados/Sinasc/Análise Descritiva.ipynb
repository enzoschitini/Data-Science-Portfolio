{
 "cells": [
  {
   "cell_type": "code",
   "execution_count": 93,
   "metadata": {},
   "outputs": [],
   "source": [
    "import pandas as pd\n",
    "import seaborn as sns\n",
    "import numpy as np\n",
    "import plotly.graph_objects as go\n",
    "\n",
    "pd.set_option('display.max_columns', None)"
   ]
  },
  {
   "cell_type": "code",
   "execution_count": 94,
   "metadata": {},
   "outputs": [
    {
     "data": {
      "text/html": [
       "<div>\n",
       "<style scoped>\n",
       "    .dataframe tbody tr th:only-of-type {\n",
       "        vertical-align: middle;\n",
       "    }\n",
       "\n",
       "    .dataframe tbody tr th {\n",
       "        vertical-align: top;\n",
       "    }\n",
       "\n",
       "    .dataframe thead th {\n",
       "        text-align: right;\n",
       "    }\n",
       "</style>\n",
       "<table border=\"1\" class=\"dataframe\">\n",
       "  <thead>\n",
       "    <tr style=\"text-align: right;\">\n",
       "      <th></th>\n",
       "      <th>IDADEMAE</th>\n",
       "      <th>ESTCIVMAE</th>\n",
       "      <th>ESCMAE</th>\n",
       "      <th>QTDFILVIVO</th>\n",
       "      <th>QTDFILMORT</th>\n",
       "      <th>GESTACAO</th>\n",
       "      <th>GRAVIDEZ</th>\n",
       "      <th>PARTO</th>\n",
       "      <th>CONSULTAS</th>\n",
       "      <th>DTNASC</th>\n",
       "      <th>HORANASC</th>\n",
       "      <th>SEXO</th>\n",
       "      <th>APGAR1</th>\n",
       "      <th>APGAR5</th>\n",
       "      <th>RACACOR</th>\n",
       "      <th>PESO</th>\n",
       "      <th>IDANOMAL</th>\n",
       "      <th>DTCADASTRO</th>\n",
       "      <th>NATURALMAE</th>\n",
       "      <th>DTNASCMAE</th>\n",
       "      <th>RACACORMAE</th>\n",
       "      <th>QTDGESTANT</th>\n",
       "      <th>QTDPARTNOR</th>\n",
       "      <th>QTDPARTCES</th>\n",
       "      <th>IDADEPAI</th>\n",
       "      <th>CONSPRENAT</th>\n",
       "      <th>MESPRENAT</th>\n",
       "      <th>munResNome</th>\n",
       "      <th>munResUf</th>\n",
       "      <th>munResLat</th>\n",
       "      <th>munResLon</th>\n",
       "      <th>munResAlt</th>\n",
       "      <th>munResArea</th>\n",
       "      <th>DTNASC_DIA</th>\n",
       "      <th>DTNASC_MES</th>\n",
       "      <th>DTCADASTRO_DIA</th>\n",
       "      <th>DTCADASTRO_MES</th>\n",
       "      <th>DTNASCMAE_DIA</th>\n",
       "      <th>DTNASCMAE_MES</th>\n",
       "    </tr>\n",
       "  </thead>\n",
       "  <tbody>\n",
       "    <tr>\n",
       "      <th>0</th>\n",
       "      <td>19</td>\n",
       "      <td>5.0</td>\n",
       "      <td>8 a 11 anos</td>\n",
       "      <td>0</td>\n",
       "      <td>0</td>\n",
       "      <td>37 a 41 semanas</td>\n",
       "      <td>Única</td>\n",
       "      <td>Cesáreo</td>\n",
       "      <td>4</td>\n",
       "      <td>2019-02-19</td>\n",
       "      <td>1620.0</td>\n",
       "      <td>Masculino</td>\n",
       "      <td>9</td>\n",
       "      <td>10</td>\n",
       "      <td>Branca</td>\n",
       "      <td>3685.0</td>\n",
       "      <td>2</td>\n",
       "      <td>2019-03-08</td>\n",
       "      <td>811</td>\n",
       "      <td>2019-03-08</td>\n",
       "      <td>1</td>\n",
       "      <td>0</td>\n",
       "      <td>0</td>\n",
       "      <td>0</td>\n",
       "      <td>26</td>\n",
       "      <td>8</td>\n",
       "      <td>1.0</td>\n",
       "      <td>Alta Floresta D'Oeste</td>\n",
       "      <td>Rondônia</td>\n",
       "      <td>-11.93554</td>\n",
       "      <td>-61.99982</td>\n",
       "      <td>338.0</td>\n",
       "      <td>7067.025</td>\n",
       "      <td>Terça-feira</td>\n",
       "      <td>Fevereiro</td>\n",
       "      <td>Sexta-feira</td>\n",
       "      <td>Março</td>\n",
       "      <td>Sexta-feira</td>\n",
       "      <td>Março</td>\n",
       "    </tr>\n",
       "    <tr>\n",
       "      <th>1</th>\n",
       "      <td>29</td>\n",
       "      <td>2.0</td>\n",
       "      <td>8 a 11 anos</td>\n",
       "      <td>1</td>\n",
       "      <td>0</td>\n",
       "      <td>37 a 41 semanas</td>\n",
       "      <td>Única</td>\n",
       "      <td>Cesáreo</td>\n",
       "      <td>4</td>\n",
       "      <td>2019-02-21</td>\n",
       "      <td>1830.0</td>\n",
       "      <td>Feminino</td>\n",
       "      <td>8</td>\n",
       "      <td>9</td>\n",
       "      <td>Branca</td>\n",
       "      <td>3055.0</td>\n",
       "      <td>2</td>\n",
       "      <td>2019-03-08</td>\n",
       "      <td>811</td>\n",
       "      <td>2019-03-08</td>\n",
       "      <td>1</td>\n",
       "      <td>1</td>\n",
       "      <td>0</td>\n",
       "      <td>1</td>\n",
       "      <td>24</td>\n",
       "      <td>10</td>\n",
       "      <td>2.0</td>\n",
       "      <td>Alta Floresta D'Oeste</td>\n",
       "      <td>Rondônia</td>\n",
       "      <td>-11.93554</td>\n",
       "      <td>-61.99982</td>\n",
       "      <td>338.0</td>\n",
       "      <td>7067.025</td>\n",
       "      <td>Quinta-feira</td>\n",
       "      <td>Fevereiro</td>\n",
       "      <td>Sexta-feira</td>\n",
       "      <td>Março</td>\n",
       "      <td>Sexta-feira</td>\n",
       "      <td>Março</td>\n",
       "    </tr>\n",
       "    <tr>\n",
       "      <th>2</th>\n",
       "      <td>37</td>\n",
       "      <td>9.0</td>\n",
       "      <td>8 a 11 anos</td>\n",
       "      <td>2</td>\n",
       "      <td>0</td>\n",
       "      <td>37 a 41 semanas</td>\n",
       "      <td>Única</td>\n",
       "      <td>Cesáreo</td>\n",
       "      <td>4</td>\n",
       "      <td>2019-02-25</td>\n",
       "      <td>915.0</td>\n",
       "      <td>Feminino</td>\n",
       "      <td>8</td>\n",
       "      <td>10</td>\n",
       "      <td>Branca</td>\n",
       "      <td>3460.0</td>\n",
       "      <td>2</td>\n",
       "      <td>2019-03-08</td>\n",
       "      <td>841</td>\n",
       "      <td>2019-03-08</td>\n",
       "      <td>1</td>\n",
       "      <td>2</td>\n",
       "      <td>1</td>\n",
       "      <td>1</td>\n",
       "      <td>32</td>\n",
       "      <td>8</td>\n",
       "      <td>1.0</td>\n",
       "      <td>Alta Floresta D'Oeste</td>\n",
       "      <td>Rondônia</td>\n",
       "      <td>-11.93554</td>\n",
       "      <td>-61.99982</td>\n",
       "      <td>338.0</td>\n",
       "      <td>7067.025</td>\n",
       "      <td>Segunda-feira</td>\n",
       "      <td>Fevereiro</td>\n",
       "      <td>Sexta-feira</td>\n",
       "      <td>Março</td>\n",
       "      <td>Sexta-feira</td>\n",
       "      <td>Março</td>\n",
       "    </tr>\n",
       "    <tr>\n",
       "      <th>3</th>\n",
       "      <td>30</td>\n",
       "      <td>5.0</td>\n",
       "      <td>12 anos ou mais</td>\n",
       "      <td>0</td>\n",
       "      <td>0</td>\n",
       "      <td>37 a 41 semanas</td>\n",
       "      <td>Única</td>\n",
       "      <td>Cesáreo</td>\n",
       "      <td>3</td>\n",
       "      <td>2019-03-20</td>\n",
       "      <td>835.0</td>\n",
       "      <td>Feminino</td>\n",
       "      <td>9</td>\n",
       "      <td>10</td>\n",
       "      <td>Parda</td>\n",
       "      <td>2982.0</td>\n",
       "      <td>2</td>\n",
       "      <td>2019-04-03</td>\n",
       "      <td>841</td>\n",
       "      <td>2019-04-03</td>\n",
       "      <td>4</td>\n",
       "      <td>0</td>\n",
       "      <td>0</td>\n",
       "      <td>0</td>\n",
       "      <td>24</td>\n",
       "      <td>6</td>\n",
       "      <td>2.0</td>\n",
       "      <td>Alto Alegre dos Parecis</td>\n",
       "      <td>Rondônia</td>\n",
       "      <td>-12.13178</td>\n",
       "      <td>-61.85308</td>\n",
       "      <td>397.0</td>\n",
       "      <td>3958.273</td>\n",
       "      <td>Quarta-feira</td>\n",
       "      <td>Março</td>\n",
       "      <td>Quarta-feira</td>\n",
       "      <td>Abril</td>\n",
       "      <td>Quarta-feira</td>\n",
       "      <td>Abril</td>\n",
       "    </tr>\n",
       "    <tr>\n",
       "      <th>4</th>\n",
       "      <td>30</td>\n",
       "      <td>2.0</td>\n",
       "      <td>8 a 11 anos</td>\n",
       "      <td>1</td>\n",
       "      <td>0</td>\n",
       "      <td>37 a 41 semanas</td>\n",
       "      <td>Única</td>\n",
       "      <td>Cesáreo</td>\n",
       "      <td>4</td>\n",
       "      <td>2019-03-23</td>\n",
       "      <td>750.0</td>\n",
       "      <td>Feminino</td>\n",
       "      <td>8</td>\n",
       "      <td>10</td>\n",
       "      <td>Parda</td>\n",
       "      <td>3310.0</td>\n",
       "      <td>2</td>\n",
       "      <td>2019-04-03</td>\n",
       "      <td>811</td>\n",
       "      <td>2019-04-03</td>\n",
       "      <td>4</td>\n",
       "      <td>1</td>\n",
       "      <td>0</td>\n",
       "      <td>1</td>\n",
       "      <td>27</td>\n",
       "      <td>8</td>\n",
       "      <td>2.0</td>\n",
       "      <td>Alta Floresta D'Oeste</td>\n",
       "      <td>Rondônia</td>\n",
       "      <td>-11.93554</td>\n",
       "      <td>-61.99982</td>\n",
       "      <td>338.0</td>\n",
       "      <td>7067.025</td>\n",
       "      <td>Sábado</td>\n",
       "      <td>Março</td>\n",
       "      <td>Quarta-feira</td>\n",
       "      <td>Abril</td>\n",
       "      <td>Quarta-feira</td>\n",
       "      <td>Abril</td>\n",
       "    </tr>\n",
       "  </tbody>\n",
       "</table>\n",
       "</div>"
      ],
      "text/plain": [
       "   IDADEMAE  ESTCIVMAE           ESCMAE  QTDFILVIVO  QTDFILMORT  \\\n",
       "0        19        5.0      8 a 11 anos           0           0   \n",
       "1        29        2.0      8 a 11 anos           1           0   \n",
       "2        37        9.0      8 a 11 anos           2           0   \n",
       "3        30        5.0  12 anos ou mais           0           0   \n",
       "4        30        2.0      8 a 11 anos           1           0   \n",
       "\n",
       "          GESTACAO GRAVIDEZ    PARTO  CONSULTAS      DTNASC  HORANASC  \\\n",
       "0  37 a 41 semanas    Única  Cesáreo          4  2019-02-19    1620.0   \n",
       "1  37 a 41 semanas    Única  Cesáreo          4  2019-02-21    1830.0   \n",
       "2  37 a 41 semanas    Única  Cesáreo          4  2019-02-25     915.0   \n",
       "3  37 a 41 semanas    Única  Cesáreo          3  2019-03-20     835.0   \n",
       "4  37 a 41 semanas    Única  Cesáreo          4  2019-03-23     750.0   \n",
       "\n",
       "        SEXO  APGAR1  APGAR5 RACACOR    PESO  IDANOMAL  DTCADASTRO  \\\n",
       "0  Masculino       9      10  Branca  3685.0         2  2019-03-08   \n",
       "1   Feminino       8       9  Branca  3055.0         2  2019-03-08   \n",
       "2   Feminino       8      10  Branca  3460.0         2  2019-03-08   \n",
       "3   Feminino       9      10   Parda  2982.0         2  2019-04-03   \n",
       "4   Feminino       8      10   Parda  3310.0         2  2019-04-03   \n",
       "\n",
       "   NATURALMAE   DTNASCMAE  RACACORMAE  QTDGESTANT  QTDPARTNOR  QTDPARTCES  \\\n",
       "0         811  2019-03-08           1           0           0           0   \n",
       "1         811  2019-03-08           1           1           0           1   \n",
       "2         841  2019-03-08           1           2           1           1   \n",
       "3         841  2019-04-03           4           0           0           0   \n",
       "4         811  2019-04-03           4           1           0           1   \n",
       "\n",
       "   IDADEPAI  CONSPRENAT  MESPRENAT               munResNome  munResUf  \\\n",
       "0        26           8        1.0    Alta Floresta D'Oeste  Rondônia   \n",
       "1        24          10        2.0    Alta Floresta D'Oeste  Rondônia   \n",
       "2        32           8        1.0    Alta Floresta D'Oeste  Rondônia   \n",
       "3        24           6        2.0  Alto Alegre dos Parecis  Rondônia   \n",
       "4        27           8        2.0    Alta Floresta D'Oeste  Rondônia   \n",
       "\n",
       "   munResLat  munResLon  munResAlt  munResArea     DTNASC_DIA DTNASC_MES  \\\n",
       "0  -11.93554  -61.99982      338.0    7067.025    Terça-feira  Fevereiro   \n",
       "1  -11.93554  -61.99982      338.0    7067.025   Quinta-feira  Fevereiro   \n",
       "2  -11.93554  -61.99982      338.0    7067.025  Segunda-feira  Fevereiro   \n",
       "3  -12.13178  -61.85308      397.0    3958.273   Quarta-feira      Março   \n",
       "4  -11.93554  -61.99982      338.0    7067.025         Sábado      Março   \n",
       "\n",
       "  DTCADASTRO_DIA DTCADASTRO_MES DTNASCMAE_DIA DTNASCMAE_MES  \n",
       "0    Sexta-feira          Março   Sexta-feira         Março  \n",
       "1    Sexta-feira          Março   Sexta-feira         Março  \n",
       "2    Sexta-feira          Março   Sexta-feira         Março  \n",
       "3   Quarta-feira          Abril  Quarta-feira         Abril  \n",
       "4   Quarta-feira          Abril  Quarta-feira         Abril  "
      ]
     },
     "execution_count": 94,
     "metadata": {},
     "output_type": "execute_result"
    }
   ],
   "source": [
    "df = pd.read_csv('SINASC_RO_2019.csv').drop(columns='Unnamed: 0', axis=1)\n",
    "df.head()"
   ]
  },
  {
   "cell_type": "markdown",
   "metadata": {},
   "source": [
    "## Mãe e Pai"
   ]
  },
  {
   "cell_type": "code",
   "execution_count": 113,
   "metadata": {},
   "outputs": [
    {
     "data": {
      "text/html": [
       "<div>\n",
       "<style scoped>\n",
       "    .dataframe tbody tr th:only-of-type {\n",
       "        vertical-align: middle;\n",
       "    }\n",
       "\n",
       "    .dataframe tbody tr th {\n",
       "        vertical-align: top;\n",
       "    }\n",
       "\n",
       "    .dataframe thead th {\n",
       "        text-align: right;\n",
       "    }\n",
       "</style>\n",
       "<table border=\"1\" class=\"dataframe\">\n",
       "  <thead>\n",
       "    <tr style=\"text-align: right;\">\n",
       "      <th></th>\n",
       "      <th>IDADEMAE</th>\n",
       "      <th>ESTCIVMAE</th>\n",
       "      <th>ESCMAE</th>\n",
       "      <th>QTDFILVIVO</th>\n",
       "      <th>QTDFILMORT</th>\n",
       "      <th>GESTACAO</th>\n",
       "      <th>GRAVIDEZ</th>\n",
       "      <th>PARTO</th>\n",
       "      <th>CONSULTAS</th>\n",
       "      <th>DTNASC</th>\n",
       "      <th>HORANASC</th>\n",
       "      <th>SEXO</th>\n",
       "      <th>APGAR1</th>\n",
       "      <th>APGAR5</th>\n",
       "      <th>RACACOR</th>\n",
       "      <th>PESO</th>\n",
       "      <th>IDANOMAL</th>\n",
       "      <th>DTCADASTRO</th>\n",
       "      <th>NATURALMAE</th>\n",
       "      <th>DTNASCMAE</th>\n",
       "      <th>RACACORMAE</th>\n",
       "      <th>QTDGESTANT</th>\n",
       "      <th>QTDPARTNOR</th>\n",
       "      <th>QTDPARTCES</th>\n",
       "      <th>IDADEPAI</th>\n",
       "      <th>CONSPRENAT</th>\n",
       "      <th>MESPRENAT</th>\n",
       "      <th>munResNome</th>\n",
       "      <th>munResUf</th>\n",
       "      <th>munResLat</th>\n",
       "      <th>munResLon</th>\n",
       "      <th>munResAlt</th>\n",
       "      <th>munResArea</th>\n",
       "      <th>DTNASC_DIA</th>\n",
       "      <th>DTNASC_MES</th>\n",
       "      <th>DTCADASTRO_DIA</th>\n",
       "      <th>DTCADASTRO_MES</th>\n",
       "      <th>DTNASCMAE_DIA</th>\n",
       "      <th>DTNASCMAE_MES</th>\n",
       "    </tr>\n",
       "  </thead>\n",
       "  <tbody>\n",
       "    <tr>\n",
       "      <th>0</th>\n",
       "      <td>19</td>\n",
       "      <td>5.0</td>\n",
       "      <td>8 a 11 anos</td>\n",
       "      <td>0</td>\n",
       "      <td>0</td>\n",
       "      <td>37 a 41 semanas</td>\n",
       "      <td>Única</td>\n",
       "      <td>Cesáreo</td>\n",
       "      <td>4</td>\n",
       "      <td>2019-02-19</td>\n",
       "      <td>1620.0</td>\n",
       "      <td>Masculino</td>\n",
       "      <td>9</td>\n",
       "      <td>10</td>\n",
       "      <td>Branca</td>\n",
       "      <td>3685.0</td>\n",
       "      <td>2</td>\n",
       "      <td>2019-03-08</td>\n",
       "      <td>811</td>\n",
       "      <td>2019-03-08</td>\n",
       "      <td>1</td>\n",
       "      <td>0</td>\n",
       "      <td>0</td>\n",
       "      <td>0</td>\n",
       "      <td>26</td>\n",
       "      <td>8</td>\n",
       "      <td>1.0</td>\n",
       "      <td>Alta Floresta D'Oeste</td>\n",
       "      <td>Rondônia</td>\n",
       "      <td>-11.93554</td>\n",
       "      <td>-61.99982</td>\n",
       "      <td>338.0</td>\n",
       "      <td>7067.025</td>\n",
       "      <td>Terça-feira</td>\n",
       "      <td>Fevereiro</td>\n",
       "      <td>Sexta-feira</td>\n",
       "      <td>Março</td>\n",
       "      <td>Sexta-feira</td>\n",
       "      <td>Março</td>\n",
       "    </tr>\n",
       "    <tr>\n",
       "      <th>1</th>\n",
       "      <td>29</td>\n",
       "      <td>2.0</td>\n",
       "      <td>8 a 11 anos</td>\n",
       "      <td>1</td>\n",
       "      <td>0</td>\n",
       "      <td>37 a 41 semanas</td>\n",
       "      <td>Única</td>\n",
       "      <td>Cesáreo</td>\n",
       "      <td>4</td>\n",
       "      <td>2019-02-21</td>\n",
       "      <td>1830.0</td>\n",
       "      <td>Feminino</td>\n",
       "      <td>8</td>\n",
       "      <td>9</td>\n",
       "      <td>Branca</td>\n",
       "      <td>3055.0</td>\n",
       "      <td>2</td>\n",
       "      <td>2019-03-08</td>\n",
       "      <td>811</td>\n",
       "      <td>2019-03-08</td>\n",
       "      <td>1</td>\n",
       "      <td>1</td>\n",
       "      <td>0</td>\n",
       "      <td>1</td>\n",
       "      <td>24</td>\n",
       "      <td>10</td>\n",
       "      <td>2.0</td>\n",
       "      <td>Alta Floresta D'Oeste</td>\n",
       "      <td>Rondônia</td>\n",
       "      <td>-11.93554</td>\n",
       "      <td>-61.99982</td>\n",
       "      <td>338.0</td>\n",
       "      <td>7067.025</td>\n",
       "      <td>Quinta-feira</td>\n",
       "      <td>Fevereiro</td>\n",
       "      <td>Sexta-feira</td>\n",
       "      <td>Março</td>\n",
       "      <td>Sexta-feira</td>\n",
       "      <td>Março</td>\n",
       "    </tr>\n",
       "    <tr>\n",
       "      <th>2</th>\n",
       "      <td>37</td>\n",
       "      <td>9.0</td>\n",
       "      <td>8 a 11 anos</td>\n",
       "      <td>2</td>\n",
       "      <td>0</td>\n",
       "      <td>37 a 41 semanas</td>\n",
       "      <td>Única</td>\n",
       "      <td>Cesáreo</td>\n",
       "      <td>4</td>\n",
       "      <td>2019-02-25</td>\n",
       "      <td>915.0</td>\n",
       "      <td>Feminino</td>\n",
       "      <td>8</td>\n",
       "      <td>10</td>\n",
       "      <td>Branca</td>\n",
       "      <td>3460.0</td>\n",
       "      <td>2</td>\n",
       "      <td>2019-03-08</td>\n",
       "      <td>841</td>\n",
       "      <td>2019-03-08</td>\n",
       "      <td>1</td>\n",
       "      <td>2</td>\n",
       "      <td>1</td>\n",
       "      <td>1</td>\n",
       "      <td>32</td>\n",
       "      <td>8</td>\n",
       "      <td>1.0</td>\n",
       "      <td>Alta Floresta D'Oeste</td>\n",
       "      <td>Rondônia</td>\n",
       "      <td>-11.93554</td>\n",
       "      <td>-61.99982</td>\n",
       "      <td>338.0</td>\n",
       "      <td>7067.025</td>\n",
       "      <td>Segunda-feira</td>\n",
       "      <td>Fevereiro</td>\n",
       "      <td>Sexta-feira</td>\n",
       "      <td>Março</td>\n",
       "      <td>Sexta-feira</td>\n",
       "      <td>Março</td>\n",
       "    </tr>\n",
       "    <tr>\n",
       "      <th>3</th>\n",
       "      <td>30</td>\n",
       "      <td>5.0</td>\n",
       "      <td>12 anos ou mais</td>\n",
       "      <td>0</td>\n",
       "      <td>0</td>\n",
       "      <td>37 a 41 semanas</td>\n",
       "      <td>Única</td>\n",
       "      <td>Cesáreo</td>\n",
       "      <td>3</td>\n",
       "      <td>2019-03-20</td>\n",
       "      <td>835.0</td>\n",
       "      <td>Feminino</td>\n",
       "      <td>9</td>\n",
       "      <td>10</td>\n",
       "      <td>Parda</td>\n",
       "      <td>2982.0</td>\n",
       "      <td>2</td>\n",
       "      <td>2019-04-03</td>\n",
       "      <td>841</td>\n",
       "      <td>2019-04-03</td>\n",
       "      <td>4</td>\n",
       "      <td>0</td>\n",
       "      <td>0</td>\n",
       "      <td>0</td>\n",
       "      <td>24</td>\n",
       "      <td>6</td>\n",
       "      <td>2.0</td>\n",
       "      <td>Alto Alegre dos Parecis</td>\n",
       "      <td>Rondônia</td>\n",
       "      <td>-12.13178</td>\n",
       "      <td>-61.85308</td>\n",
       "      <td>397.0</td>\n",
       "      <td>3958.273</td>\n",
       "      <td>Quarta-feira</td>\n",
       "      <td>Março</td>\n",
       "      <td>Quarta-feira</td>\n",
       "      <td>Abril</td>\n",
       "      <td>Quarta-feira</td>\n",
       "      <td>Abril</td>\n",
       "    </tr>\n",
       "    <tr>\n",
       "      <th>4</th>\n",
       "      <td>30</td>\n",
       "      <td>2.0</td>\n",
       "      <td>8 a 11 anos</td>\n",
       "      <td>1</td>\n",
       "      <td>0</td>\n",
       "      <td>37 a 41 semanas</td>\n",
       "      <td>Única</td>\n",
       "      <td>Cesáreo</td>\n",
       "      <td>4</td>\n",
       "      <td>2019-03-23</td>\n",
       "      <td>750.0</td>\n",
       "      <td>Feminino</td>\n",
       "      <td>8</td>\n",
       "      <td>10</td>\n",
       "      <td>Parda</td>\n",
       "      <td>3310.0</td>\n",
       "      <td>2</td>\n",
       "      <td>2019-04-03</td>\n",
       "      <td>811</td>\n",
       "      <td>2019-04-03</td>\n",
       "      <td>4</td>\n",
       "      <td>1</td>\n",
       "      <td>0</td>\n",
       "      <td>1</td>\n",
       "      <td>27</td>\n",
       "      <td>8</td>\n",
       "      <td>2.0</td>\n",
       "      <td>Alta Floresta D'Oeste</td>\n",
       "      <td>Rondônia</td>\n",
       "      <td>-11.93554</td>\n",
       "      <td>-61.99982</td>\n",
       "      <td>338.0</td>\n",
       "      <td>7067.025</td>\n",
       "      <td>Sábado</td>\n",
       "      <td>Março</td>\n",
       "      <td>Quarta-feira</td>\n",
       "      <td>Abril</td>\n",
       "      <td>Quarta-feira</td>\n",
       "      <td>Abril</td>\n",
       "    </tr>\n",
       "  </tbody>\n",
       "</table>\n",
       "</div>"
      ],
      "text/plain": [
       "   IDADEMAE  ESTCIVMAE           ESCMAE  QTDFILVIVO  QTDFILMORT  \\\n",
       "0        19        5.0      8 a 11 anos           0           0   \n",
       "1        29        2.0      8 a 11 anos           1           0   \n",
       "2        37        9.0      8 a 11 anos           2           0   \n",
       "3        30        5.0  12 anos ou mais           0           0   \n",
       "4        30        2.0      8 a 11 anos           1           0   \n",
       "\n",
       "          GESTACAO GRAVIDEZ    PARTO  CONSULTAS      DTNASC  HORANASC  \\\n",
       "0  37 a 41 semanas    Única  Cesáreo          4  2019-02-19    1620.0   \n",
       "1  37 a 41 semanas    Única  Cesáreo          4  2019-02-21    1830.0   \n",
       "2  37 a 41 semanas    Única  Cesáreo          4  2019-02-25     915.0   \n",
       "3  37 a 41 semanas    Única  Cesáreo          3  2019-03-20     835.0   \n",
       "4  37 a 41 semanas    Única  Cesáreo          4  2019-03-23     750.0   \n",
       "\n",
       "        SEXO  APGAR1  APGAR5 RACACOR    PESO  IDANOMAL  DTCADASTRO  \\\n",
       "0  Masculino       9      10  Branca  3685.0         2  2019-03-08   \n",
       "1   Feminino       8       9  Branca  3055.0         2  2019-03-08   \n",
       "2   Feminino       8      10  Branca  3460.0         2  2019-03-08   \n",
       "3   Feminino       9      10   Parda  2982.0         2  2019-04-03   \n",
       "4   Feminino       8      10   Parda  3310.0         2  2019-04-03   \n",
       "\n",
       "   NATURALMAE   DTNASCMAE  RACACORMAE  QTDGESTANT  QTDPARTNOR  QTDPARTCES  \\\n",
       "0         811  2019-03-08           1           0           0           0   \n",
       "1         811  2019-03-08           1           1           0           1   \n",
       "2         841  2019-03-08           1           2           1           1   \n",
       "3         841  2019-04-03           4           0           0           0   \n",
       "4         811  2019-04-03           4           1           0           1   \n",
       "\n",
       "   IDADEPAI  CONSPRENAT  MESPRENAT               munResNome  munResUf  \\\n",
       "0        26           8        1.0    Alta Floresta D'Oeste  Rondônia   \n",
       "1        24          10        2.0    Alta Floresta D'Oeste  Rondônia   \n",
       "2        32           8        1.0    Alta Floresta D'Oeste  Rondônia   \n",
       "3        24           6        2.0  Alto Alegre dos Parecis  Rondônia   \n",
       "4        27           8        2.0    Alta Floresta D'Oeste  Rondônia   \n",
       "\n",
       "   munResLat  munResLon  munResAlt  munResArea     DTNASC_DIA DTNASC_MES  \\\n",
       "0  -11.93554  -61.99982      338.0    7067.025    Terça-feira  Fevereiro   \n",
       "1  -11.93554  -61.99982      338.0    7067.025   Quinta-feira  Fevereiro   \n",
       "2  -11.93554  -61.99982      338.0    7067.025  Segunda-feira  Fevereiro   \n",
       "3  -12.13178  -61.85308      397.0    3958.273   Quarta-feira      Março   \n",
       "4  -11.93554  -61.99982      338.0    7067.025         Sábado      Março   \n",
       "\n",
       "  DTCADASTRO_DIA DTCADASTRO_MES DTNASCMAE_DIA DTNASCMAE_MES  \n",
       "0    Sexta-feira          Março   Sexta-feira         Março  \n",
       "1    Sexta-feira          Março   Sexta-feira         Março  \n",
       "2    Sexta-feira          Março   Sexta-feira         Março  \n",
       "3   Quarta-feira          Abril  Quarta-feira         Abril  \n",
       "4   Quarta-feira          Abril  Quarta-feira         Abril  "
      ]
     },
     "execution_count": 113,
     "metadata": {},
     "output_type": "execute_result"
    }
   ],
   "source": [
    "PAIS = df[df['IDADEPAI'] != 0]\n",
    "PAIS.head(5)"
   ]
  },
  {
   "cell_type": "code",
   "execution_count": 114,
   "metadata": {},
   "outputs": [
    {
     "name": "stderr",
     "output_type": "stream",
     "text": [
      "C:\\Users\\Soldado\\AppData\\Local\\Temp\\ipykernel_17468\\434745274.py:17: SettingWithCopyWarning:\n",
      "\n",
      "\n",
      "A value is trying to be set on a copy of a slice from a DataFrame.\n",
      "Try using .loc[row_indexer,col_indexer] = value instead\n",
      "\n",
      "See the caveats in the documentation: https://pandas.pydata.org/pandas-docs/stable/user_guide/indexing.html#returning-a-view-versus-a-copy\n",
      "\n",
      "C:\\Users\\Soldado\\AppData\\Local\\Temp\\ipykernel_17468\\434745274.py:18: SettingWithCopyWarning:\n",
      "\n",
      "\n",
      "A value is trying to be set on a copy of a slice from a DataFrame.\n",
      "Try using .loc[row_indexer,col_indexer] = value instead\n",
      "\n",
      "See the caveats in the documentation: https://pandas.pydata.org/pandas-docs/stable/user_guide/indexing.html#returning-a-view-versus-a-copy\n",
      "\n",
      "C:\\Users\\Soldado\\AppData\\Local\\Temp\\ipykernel_17468\\434745274.py:19: SettingWithCopyWarning:\n",
      "\n",
      "\n",
      "A value is trying to be set on a copy of a slice from a DataFrame.\n",
      "Try using .loc[row_indexer,col_indexer] = value instead\n",
      "\n",
      "See the caveats in the documentation: https://pandas.pydata.org/pandas-docs/stable/user_guide/indexing.html#returning-a-view-versus-a-copy\n",
      "\n"
     ]
    }
   ],
   "source": [
    "def splitter(idade:int):\n",
    "    if (idade >= 10) & (idade <= 15): \n",
    "        return '10 à 15 anos'\n",
    "    elif (idade >= 15) & (idade <= 20):\n",
    "        return '15 à 20 anos'\n",
    "    elif (idade >= 20) & (idade <= 25):\n",
    "        return '20 à 25 anos'\n",
    "    elif (idade >= 25) & (idade <= 30):\n",
    "        return '25 à 30 anos'\n",
    "    elif (idade >= 30) & (idade <= 35):\n",
    "        return '30 à 35 anos'\n",
    "    elif (idade >= 40) & (idade <= 45):\n",
    "        return '40 à 45 anos'\n",
    "    elif (idade >= 45) & (idade <= 50):\n",
    "        return '45 à 50 anos'\n",
    "\n",
    "PAIS['faixa_mae'] = PAIS['IDADEMAE'].apply(splitter)\n",
    "PAIS['faixa_pai'] = PAIS['IDADEPAI'].apply(splitter)\n",
    "PAIS['diferenca'] = abs(PAIS['IDADEMAE'] - PAIS['IDADEPAI'])"
   ]
  },
  {
   "cell_type": "code",
   "execution_count": 99,
   "metadata": {},
   "outputs": [
    {
     "name": "stderr",
     "output_type": "stream",
     "text": [
      "c:\\Users\\Soldado\\AppData\\Local\\Programs\\Python\\Python311\\Lib\\site-packages\\seaborn\\_core.py:1218: FutureWarning:\n",
      "\n",
      "is_categorical_dtype is deprecated and will be removed in a future version. Use isinstance(dtype, CategoricalDtype) instead\n",
      "\n"
     ]
    },
    {
     "data": {
      "text/plain": [
       "<seaborn.axisgrid.FacetGrid at 0x227862ecd50>"
      ]
     },
     "execution_count": 99,
     "metadata": {},
     "output_type": "execute_result"
    },
    {
     "data": {
      "image/png": "[encoded data removed]",
      "text/plain": [
       "<Figure size 500x500 with 1 Axes>"
      ]
     },
     "metadata": {},
     "output_type": "display_data"
    }
   ],
   "source": [
    "sns.displot(data = PAIS\n",
    "            ,alpha = .25\n",
    "            ,x = 'diferenca'\n",
    "            ,bins = 20\n",
    "            ,element = 'step'\n",
    "            ,kde = True\n",
    "           )"
   ]
  },
  {
   "cell_type": "code",
   "execution_count": 107,
   "metadata": {},
   "outputs": [
    {
     "name": "stderr",
     "output_type": "stream",
     "text": [
      "c:\\Users\\Soldado\\AppData\\Local\\Programs\\Python\\Python311\\Lib\\site-packages\\seaborn\\_core.py:1218: FutureWarning:\n",
      "\n",
      "is_categorical_dtype is deprecated and will be removed in a future version. Use isinstance(dtype, CategoricalDtype) instead\n",
      "\n",
      "c:\\Users\\Soldado\\AppData\\Local\\Programs\\Python\\Python311\\Lib\\site-packages\\seaborn\\_core.py:1218: FutureWarning:\n",
      "\n",
      "is_categorical_dtype is deprecated and will be removed in a future version. Use isinstance(dtype, CategoricalDtype) instead\n",
      "\n",
      "c:\\Users\\Soldado\\AppData\\Local\\Programs\\Python\\Python311\\Lib\\site-packages\\seaborn\\_core.py:1218: FutureWarning:\n",
      "\n",
      "is_categorical_dtype is deprecated and will be removed in a future version. Use isinstance(dtype, CategoricalDtype) instead\n",
      "\n",
      "c:\\Users\\Soldado\\AppData\\Local\\Programs\\Python\\Python311\\Lib\\site-packages\\seaborn\\_core.py:1218: FutureWarning:\n",
      "\n",
      "is_categorical_dtype is deprecated and will be removed in a future version. Use isinstance(dtype, CategoricalDtype) instead\n",
      "\n",
      "c:\\Users\\Soldado\\AppData\\Local\\Programs\\Python\\Python311\\Lib\\site-packages\\seaborn\\distributions.py:306: UserWarning:\n",
      "\n",
      "Dataset has 0 variance; skipping density estimate.\n",
      "\n",
      "c:\\Users\\Soldado\\AppData\\Local\\Programs\\Python\\Python311\\Lib\\site-packages\\seaborn\\_core.py:1218: FutureWarning:\n",
      "\n",
      "is_categorical_dtype is deprecated and will be removed in a future version. Use isinstance(dtype, CategoricalDtype) instead\n",
      "\n",
      "c:\\Users\\Soldado\\AppData\\Local\\Programs\\Python\\Python311\\Lib\\site-packages\\seaborn\\_core.py:1218: FutureWarning:\n",
      "\n",
      "is_categorical_dtype is deprecated and will be removed in a future version. Use isinstance(dtype, CategoricalDtype) instead\n",
      "\n",
      "c:\\Users\\Soldado\\AppData\\Local\\Programs\\Python\\Python311\\Lib\\site-packages\\seaborn\\_core.py:1218: FutureWarning:\n",
      "\n",
      "is_categorical_dtype is deprecated and will be removed in a future version. Use isinstance(dtype, CategoricalDtype) instead\n",
      "\n",
      "c:\\Users\\Soldado\\AppData\\Local\\Programs\\Python\\Python311\\Lib\\site-packages\\seaborn\\_core.py:1218: FutureWarning:\n",
      "\n",
      "is_categorical_dtype is deprecated and will be removed in a future version. Use isinstance(dtype, CategoricalDtype) instead\n",
      "\n"
     ]
    },
    {
     "data": {
      "text/plain": [
       "<seaborn.axisgrid.FacetGrid at 0x22788cbd050>"
      ]
     },
     "execution_count": 107,
     "metadata": {},
     "output_type": "execute_result"
    },
    {
     "data": {
      "image/png": "[encoded data removed]",
      "text/plain": [
       "<Figure size 640x500 with 1 Axes>"
      ]
     },
     "metadata": {},
     "output_type": "display_data"
    },
    {
     "data": {
      "image/png": "[encoded data removed]",
      "text/plain": [
       "<Figure size 640x500 with 1 Axes>"
      ]
     },
     "metadata": {},
     "output_type": "display_data"
    }
   ],
   "source": [
    "sns.displot(data = PAIS#[(PAIS['IDADEMAE'] >= 15) & (PAIS['IDADEMAE'] <= 20)]\n",
    "            ,x = 'IDADEMAE'\n",
    "            ,hue = 'faixa_pai'\n",
    "            ,bins = 10\n",
    "            ,element = 'step'\n",
    "            , kde = True\n",
    "           )\n",
    "sns.displot(data = PAIS\n",
    "            ,x = 'IDADEPAI'\n",
    "            ,hue = 'faixa_mae'\n",
    "            ,bins = 10\n",
    "            ,element = 'step'\n",
    "            , kde = True\n",
    "           )"
   ]
  },
  {
   "cell_type": "markdown",
   "metadata": {},
   "source": [
    "### Pirâmide das idades"
   ]
  },
  {
   "cell_type": "code",
   "execution_count": 101,
   "metadata": {},
   "outputs": [],
   "source": [
    "faixas = np.array(['10 à 15 anos', '15 à 20 anos', '20 à 25 anos', '25 à 30 anos', '30 à 35 anos', '40 à 45 anos', '45 à 50 anos'])"
   ]
  },
  {
   "cell_type": "code",
   "execution_count": 102,
   "metadata": {},
   "outputs": [],
   "source": [
    "pais = {chave: PAIS.groupby('faixa_pai')['faixa_pai'].count().to_dict()[chave] for chave in faixas}\n",
    "maes = {chave: PAIS.groupby('faixa_mae')['faixa_mae'].count().to_dict()[chave] for chave in faixas}\n",
    "\n",
    "pais = np.array(list(pais.values()))\n",
    "maes = np.array(list(maes.values()))"
   ]
  },
  {
   "cell_type": "code",
   "execution_count": 103,
   "metadata": {},
   "outputs": [
    {
     "data": {
      "application/vnd.plotly.v1+json": {
       "config": {
        "plotlyServerURL": "https://plot.ly"
       },
       "data": [
        {
         "marker": {
          "color": "#32CD32"
         },
         "name": "Pais",
         "orientation": "h",
         "type": "bar",
         "x": [
          1,
          415,
          1426,
          1891,
          1542,
          607,
          205
         ],
         "y": [
          "10 à 15 anos",
          "15 à 20 anos",
          "20 à 25 anos",
          "25 à 30 anos",
          "30 à 35 anos",
          "40 à 45 anos",
          "45 à 50 anos"
         ]
        },
        {
         "marker": {
          "color": "#E65CD9"
         },
         "name": "Mães",
         "orientation": "h",
         "type": "bar",
         "x": [
          -93,
          -1132,
          -1847,
          -1939,
          -1366,
          -148,
          -4
         ],
         "y": [
          "10 à 15 anos",
          "15 à 20 anos",
          "20 à 25 anos",
          "25 à 30 anos",
          "30 à 35 anos",
          "40 à 45 anos",
          "45 à 50 anos"
         ]
        }
       ],
       "layout": {
        "barmode": "overlay",
        "plot_bgcolor": "white",
        "template": {
         "data": {
          "bar": [
           {
            "error_x": {
             "color": "#2a3f5f"
            },
            "error_y": {
             "color": "#2a3f5f"
            },
            "marker": {
             "line": {
              "color": "#E5ECF6",
              "width": 0.5
             },
             "pattern": {
              "fillmode": "overlay",
              "size": 10,
              "solidity": 0.2
             }
            },
            "type": "bar"
           }
          ],
          "barpolar": [
           {
            "marker": {
             "line": {
              "color": "#E5ECF6",
              "width": 0.5
             },
             "pattern": {
              "fillmode": "overlay",
              "size": 10,
              "solidity": 0.2
             }
            },
            "type": "barpolar"
           }
          ],
          "carpet": [
           {
            "aaxis": {
             "endlinecolor": "#2a3f5f",
             "gridcolor": "white",
             "linecolor": "white",
             "minorgridcolor": "white",
             "startlinecolor": "#2a3f5f"
            },
            "baxis": {
             "endlinecolor": "#2a3f5f",
             "gridcolor": "white",
             "linecolor": "white",
             "minorgridcolor": "white",
             "startlinecolor": "#2a3f5f"
            },
            "type": "carpet"
           }
          ],
          "choropleth": [
           {
            "colorbar": {
             "outlinewidth": 0,
             "ticks": ""
            },
            "type": "choropleth"
           }
          ],
          "contour": [
           {
            "colorbar": {
             "outlinewidth": 0,
             "ticks": ""
            },
            "colorscale": [
             [
              0,
              "#0d0887"
             ],
             [
              0.1111111111111111,
              "#46039f"
             ],
             [
              0.2222222222222222,
              "#7201a8"
             ],
             [
              0.3333333333333333,
              "#9c179e"
             ],
             [
              0.4444444444444444,
              "#bd3786"
             ],
             [
              0.5555555555555556,
              "#d8576b"
             ],
             [
              0.6666666666666666,
              "#ed7953"
             ],
             [
              0.7777777777777778,
              "#fb9f3a"
             ],
             [
              0.8888888888888888,
              "#fdca26"
             ],
             [
              1,
              "#f0f921"
             ]
            ],
            "type": "contour"
           }
          ],
          "contourcarpet": [
           {
            "colorbar": {
             "outlinewidth": 0,
             "ticks": ""
            },
            "type": "contourcarpet"
           }
          ],
          "heatmap": [
           {
            "colorbar": {
             "outlinewidth": 0,
             "ticks": ""
            },
            "colorscale": [
             [
              0,
              "#0d0887"
             ],
             [
              0.1111111111111111,
              "#46039f"
             ],
             [
              0.2222222222222222,
              "#7201a8"
             ],
             [
              0.3333333333333333,
              "#9c179e"
             ],
             [
              0.4444444444444444,
              "#bd3786"
             ],
             [
              0.5555555555555556,
              "#d8576b"
             ],
             [
              0.6666666666666666,
              "#ed7953"
             ],
             [
              0.7777777777777778,
              "#fb9f3a"
             ],
             [
              0.8888888888888888,
              "#fdca26"
             ],
             [
              1,
              "#f0f921"
             ]
            ],
            "type": "heatmap"
           }
          ],
          "heatmapgl": [
           {
            "colorbar": {
             "outlinewidth": 0,
             "ticks": ""
            },
            "colorscale": [
             [
              0,
              "#0d0887"
             ],
             [
              0.1111111111111111,
              "#46039f"
             ],
             [
              0.2222222222222222,
              "#7201a8"
             ],
             [
              0.3333333333333333,
              "#9c179e"
             ],
             [
              0.4444444444444444,
              "#bd3786"
             ],
             [
              0.5555555555555556,
              "#d8576b"
             ],
             [
              0.6666666666666666,
              "#ed7953"
             ],
             [
              0.7777777777777778,
              "#fb9f3a"
             ],
             [
              0.8888888888888888,
              "#fdca26"
             ],
             [
              1,
              "#f0f921"
             ]
            ],
            "type": "heatmapgl"
           }
          ],
          "histogram": [
           {
            "marker": {
             "pattern": {
              "fillmode": "overlay",
              "size": 10,
              "solidity": 0.2
             }
            },
            "type": "histogram"
           }
          ],
          "histogram2d": [
           {
            "colorbar": {
             "outlinewidth": 0,
             "ticks": ""
            },
            "colorscale": [
             [
              0,
              "#0d0887"
             ],
             [
              0.1111111111111111,
              "#46039f"
             ],
             [
              0.2222222222222222,
              "#7201a8"
             ],
             [
              0.3333333333333333,
              "#9c179e"
             ],
             [
              0.4444444444444444,
              "#bd3786"
             ],
             [
              0.5555555555555556,
              "#d8576b"
             ],
             [
              0.6666666666666666,
              "#ed7953"
             ],
             [
              0.7777777777777778,
              "#fb9f3a"
             ],
             [
              0.8888888888888888,
              "#fdca26"
             ],
             [
              1,
              "#f0f921"
             ]
            ],
            "type": "histogram2d"
           }
          ],
          "histogram2dcontour": [
           {
            "colorbar": {
             "outlinewidth": 0,
             "ticks": ""
            },
            "colorscale": [
             [
              0,
              "#0d0887"
             ],
             [
              0.1111111111111111,
              "#46039f"
             ],
             [
              0.2222222222222222,
              "#7201a8"
             ],
             [
              0.3333333333333333,
              "#9c179e"
             ],
             [
              0.4444444444444444,
              "#bd3786"
             ],
             [
              0.5555555555555556,
              "#d8576b"
             ],
             [
              0.6666666666666666,
              "#ed7953"
             ],
             [
              0.7777777777777778,
              "#fb9f3a"
             ],
             [
              0.8888888888888888,
              "#fdca26"
             ],
             [
              1,
              "#f0f921"
             ]
            ],
            "type": "histogram2dcontour"
           }
          ],
          "mesh3d": [
           {
            "colorbar": {
             "outlinewidth": 0,
             "ticks": ""
            },
            "type": "mesh3d"
           }
          ],
          "parcoords": [
           {
            "line": {
             "colorbar": {
              "outlinewidth": 0,
              "ticks": ""
             }
            },
            "type": "parcoords"
           }
          ],
          "pie": [
           {
            "automargin": true,
            "type": "pie"
           }
          ],
          "scatter": [
           {
            "fillpattern": {
             "fillmode": "overlay",
             "size": 10,
             "solidity": 0.2
            },
            "type": "scatter"
           }
          ],
          "scatter3d": [
           {
            "line": {
             "colorbar": {
              "outlinewidth": 0,
              "ticks": ""
             }
            },
            "marker": {
             "colorbar": {
              "outlinewidth": 0,
              "ticks": ""
             }
            },
            "type": "scatter3d"
           }
          ],
          "scattercarpet": [
           {
            "marker": {
             "colorbar": {
              "outlinewidth": 0,
              "ticks": ""
             }
            },
            "type": "scattercarpet"
           }
          ],
          "scattergeo": [
           {
            "marker": {
             "colorbar": {
              "outlinewidth": 0,
              "ticks": ""
             }
            },
            "type": "scattergeo"
           }
          ],
          "scattergl": [
           {
            "marker": {
             "colorbar": {
              "outlinewidth": 0,
              "ticks": ""
             }
            },
            "type": "scattergl"
           }
          ],
          "scattermapbox": [
           {
            "marker": {
             "colorbar": {
              "outlinewidth": 0,
              "ticks": ""
             }
            },
            "type": "scattermapbox"
           }
          ],
          "scatterpolar": [
           {
            "marker": {
             "colorbar": {
              "outlinewidth": 0,
              "ticks": ""
             }
            },
            "type": "scatterpolar"
           }
          ],
          "scatterpolargl": [
           {
            "marker": {
             "colorbar": {
              "outlinewidth": 0,
              "ticks": ""
             }
            },
            "type": "scatterpolargl"
           }
          ],
          "scatterternary": [
           {
            "marker": {
             "colorbar": {
              "outlinewidth": 0,
              "ticks": ""
             }
            },
            "type": "scatterternary"
           }
          ],
          "surface": [
           {
            "colorbar": {
             "outlinewidth": 0,
             "ticks": ""
            },
            "colorscale": [
             [
              0,
              "#0d0887"
             ],
             [
              0.1111111111111111,
              "#46039f"
             ],
             [
              0.2222222222222222,
              "#7201a8"
             ],
             [
              0.3333333333333333,
              "#9c179e"
             ],
             [
              0.4444444444444444,
              "#bd3786"
             ],
             [
              0.5555555555555556,
              "#d8576b"
             ],
             [
              0.6666666666666666,
              "#ed7953"
             ],
             [
              0.7777777777777778,
              "#fb9f3a"
             ],
             [
              0.8888888888888888,
              "#fdca26"
             ],
             [
              1,
              "#f0f921"
             ]
            ],
            "type": "surface"
           }
          ],
          "table": [
           {
            "cells": {
             "fill": {
              "color": "#EBF0F8"
             },
             "line": {
              "color": "white"
             }
            },
            "header": {
             "fill": {
              "color": "#C8D4E3"
             },
             "line": {
              "color": "white"
             }
            },
            "type": "table"
           }
          ]
         },
         "layout": {
          "annotationdefaults": {
           "arrowcolor": "#2a3f5f",
           "arrowhead": 0,
           "arrowwidth": 1
          },
          "autotypenumbers": "strict",
          "coloraxis": {
           "colorbar": {
            "outlinewidth": 0,
            "ticks": ""
           }
          },
          "colorscale": {
           "diverging": [
            [
             0,
             "#8e0152"
            ],
            [
             0.1,
             "#c51b7d"
            ],
            [
             0.2,
             "#de77ae"
            ],
            [
             0.3,
             "#f1b6da"
            ],
            [
             0.4,
             "#fde0ef"
            ],
            [
             0.5,
             "#f7f7f7"
            ],
            [
             0.6,
             "#e6f5d0"
            ],
            [
             0.7,
             "#b8e186"
            ],
            [
             0.8,
             "#7fbc41"
            ],
            [
             0.9,
             "#4d9221"
            ],
            [
             1,
             "#276419"
            ]
           ],
           "sequential": [
            [
             0,
             "#0d0887"
            ],
            [
             0.1111111111111111,
             "#46039f"
            ],
            [
             0.2222222222222222,
             "#7201a8"
            ],
            [
             0.3333333333333333,
             "#9c179e"
            ],
            [
             0.4444444444444444,
             "#bd3786"
            ],
            [
             0.5555555555555556,
             "#d8576b"
            ],
            [
             0.6666666666666666,
             "#ed7953"
            ],
            [
             0.7777777777777778,
             "#fb9f3a"
            ],
            [
             0.8888888888888888,
             "#fdca26"
            ],
            [
             1,
             "#f0f921"
            ]
           ],
           "sequentialminus": [
            [
             0,
             "#0d0887"
            ],
            [
             0.1111111111111111,
             "#46039f"
            ],
            [
             0.2222222222222222,
             "#7201a8"
            ],
            [
             0.3333333333333333,
             "#9c179e"
            ],
            [
             0.4444444444444444,
             "#bd3786"
            ],
            [
             0.5555555555555556,
             "#d8576b"
            ],
            [
             0.6666666666666666,
             "#ed7953"
            ],
            [
             0.7777777777777778,
             "#fb9f3a"
            ],
            [
             0.8888888888888888,
             "#fdca26"
            ],
            [
             1,
             "#f0f921"
            ]
           ]
          },
          "colorway": [
           "#636efa",
           "#EF553B",
           "#00cc96",
           "#ab63fa",
           "#FFA15A",
           "#19d3f3",
           "#FF6692",
           "#B6E880",
           "#FF97FF",
           "#FECB52"
          ],
          "font": {
           "color": "#2a3f5f"
          },
          "geo": {
           "bgcolor": "white",
           "lakecolor": "white",
           "landcolor": "#E5ECF6",
           "showlakes": true,
           "showland": true,
           "subunitcolor": "white"
          },
          "hoverlabel": {
           "align": "left"
          },
          "hovermode": "closest",
          "mapbox": {
           "style": "light"
          },
          "paper_bgcolor": "white",
          "plot_bgcolor": "#E5ECF6",
          "polar": {
           "angularaxis": {
            "gridcolor": "white",
            "linecolor": "white",
            "ticks": ""
           },
           "bgcolor": "#E5ECF6",
           "radialaxis": {
            "gridcolor": "white",
            "linecolor": "white",
            "ticks": ""
           }
          },
          "scene": {
           "xaxis": {
            "backgroundcolor": "#E5ECF6",
            "gridcolor": "white",
            "gridwidth": 2,
            "linecolor": "white",
            "showbackground": true,
            "ticks": "",
            "zerolinecolor": "white"
           },
           "yaxis": {
            "backgroundcolor": "#E5ECF6",
            "gridcolor": "white",
            "gridwidth": 2,
            "linecolor": "white",
            "showbackground": true,
            "ticks": "",
            "zerolinecolor": "white"
           },
           "zaxis": {
            "backgroundcolor": "#E5ECF6",
            "gridcolor": "white",
            "gridwidth": 2,
            "linecolor": "white",
            "showbackground": true,
            "ticks": "",
            "zerolinecolor": "white"
           }
          },
          "shapedefaults": {
           "line": {
            "color": "#2a3f5f"
           }
          },
          "ternary": {
           "aaxis": {
            "gridcolor": "white",
            "linecolor": "white",
            "ticks": ""
           },
           "baxis": {
            "gridcolor": "white",
            "linecolor": "white",
            "ticks": ""
           },
           "bgcolor": "#E5ECF6",
           "caxis": {
            "gridcolor": "white",
            "linecolor": "white",
            "ticks": ""
           }
          },
          "title": {
           "x": 0.05
          },
          "xaxis": {
           "automargin": true,
           "gridcolor": "white",
           "linecolor": "white",
           "ticks": "",
           "title": {
            "standoff": 15
           },
           "zerolinecolor": "white",
           "zerolinewidth": 2
          },
          "yaxis": {
           "automargin": true,
           "gridcolor": "white",
           "linecolor": "white",
           "ticks": "",
           "title": {
            "standoff": 15
           },
           "zerolinecolor": "white",
           "zerolinewidth": 2
          }
         }
        },
        "title": {
         "text": "Pirâmide das idades"
        },
        "xaxis": {
         "tickvals": [
          -2000,
          0,
          2000
         ],
         "title": {
          "text": "mil"
         }
        }
       }
      }
     },
     "metadata": {},
     "output_type": "display_data"
    }
   ],
   "source": [
    "piramide = go.Figure()\n",
    "\n",
    "piramide.add_trace(go.Bar(x = pais,\n",
    "                         y = faixas,\n",
    "                         orientation = \"h\",\n",
    "                         name = \"Pais\",\n",
    "                         marker = dict(color = \"#32CD32\")))\n",
    "\n",
    "piramide.add_trace(go.Bar(x = -maes,\n",
    "                         y = faixas,\n",
    "                         orientation = \"h\",\n",
    "                         name = \"Mães\",\n",
    "                         marker = dict(color = \"#E65CD9\")))\n",
    "\n",
    "piramide.update_layout(barmode = \"overlay\",\n",
    "                      title = \"Pirâmide das idades\",\n",
    "                      xaxis = dict(tickvals = [-2000, 0, 2000],\n",
    "                                  title = \"mil\"),\n",
    "                      plot_bgcolor = \"white\")\n",
    "\n",
    "piramide.show()"
   ]
  },
  {
   "cell_type": "code",
   "execution_count": 118,
   "metadata": {},
   "outputs": [],
   "source": [
    "def grafico_faixas(minimo:int, maximo:int):\n",
    "    sns.displot(data = PAIS[(PAIS['IDADEMAE'] >= minimo) & (PAIS['IDADEMAE'] <= maximo)]\n",
    "            ,x = 'IDADEMAE'\n",
    "            ,hue = 'faixa_pai'\n",
    "            ,bins = 10\n",
    "            ,element = 'step'\n",
    "            , kde = True\n",
    "           )"
   ]
  },
  {
   "cell_type": "code",
   "execution_count": 119,
   "metadata": {},
   "outputs": [
    {
     "name": "stderr",
     "output_type": "stream",
     "text": [
      "c:\\Users\\Soldado\\AppData\\Local\\Programs\\Python\\Python311\\Lib\\site-packages\\seaborn\\_core.py:1218: FutureWarning:\n",
      "\n",
      "is_categorical_dtype is deprecated and will be removed in a future version. Use isinstance(dtype, CategoricalDtype) instead\n",
      "\n",
      "c:\\Users\\Soldado\\AppData\\Local\\Programs\\Python\\Python311\\Lib\\site-packages\\seaborn\\_core.py:1218: FutureWarning:\n",
      "\n",
      "is_categorical_dtype is deprecated and will be removed in a future version. Use isinstance(dtype, CategoricalDtype) instead\n",
      "\n",
      "c:\\Users\\Soldado\\AppData\\Local\\Programs\\Python\\Python311\\Lib\\site-packages\\seaborn\\_core.py:1218: FutureWarning:\n",
      "\n",
      "is_categorical_dtype is deprecated and will be removed in a future version. Use isinstance(dtype, CategoricalDtype) instead\n",
      "\n",
      "c:\\Users\\Soldado\\AppData\\Local\\Programs\\Python\\Python311\\Lib\\site-packages\\seaborn\\_core.py:1218: FutureWarning:\n",
      "\n",
      "is_categorical_dtype is deprecated and will be removed in a future version. Use isinstance(dtype, CategoricalDtype) instead\n",
      "\n",
      "c:\\Users\\Soldado\\AppData\\Local\\Programs\\Python\\Python311\\Lib\\site-packages\\seaborn\\distributions.py:306: UserWarning:\n",
      "\n",
      "Dataset has 0 variance; skipping density estimate.\n",
      "\n",
      "c:\\Users\\Soldado\\AppData\\Local\\Programs\\Python\\Python311\\Lib\\site-packages\\seaborn\\_core.py:1218: FutureWarning:\n",
      "\n",
      "is_categorical_dtype is deprecated and will be removed in a future version. Use isinstance(dtype, CategoricalDtype) instead\n",
      "\n",
      "c:\\Users\\Soldado\\AppData\\Local\\Programs\\Python\\Python311\\Lib\\site-packages\\seaborn\\_core.py:1218: FutureWarning:\n",
      "\n",
      "is_categorical_dtype is deprecated and will be removed in a future version. Use isinstance(dtype, CategoricalDtype) instead\n",
      "\n",
      "c:\\Users\\Soldado\\AppData\\Local\\Programs\\Python\\Python311\\Lib\\site-packages\\seaborn\\_core.py:1218: FutureWarning:\n",
      "\n",
      "is_categorical_dtype is deprecated and will be removed in a future version. Use isinstance(dtype, CategoricalDtype) instead\n",
      "\n",
      "c:\\Users\\Soldado\\AppData\\Local\\Programs\\Python\\Python311\\Lib\\site-packages\\seaborn\\_core.py:1218: FutureWarning:\n",
      "\n",
      "is_categorical_dtype is deprecated and will be removed in a future version. Use isinstance(dtype, CategoricalDtype) instead\n",
      "\n"
     ]
    },
    {
     "data": {
      "image/png": "[encoded data removed]",
      "text/plain": [
       "<Figure size 640x500 with 1 Axes>"
      ]
     },
     "metadata": {},
     "output_type": "display_data"
    },
    {
     "data": {
      "image/png": "[encoded data removed]",
      "text/plain": [
       "<Figure size 639.875x500 with 1 Axes>"
      ]
     },
     "metadata": {},
     "output_type": "display_data"
    }
   ],
   "source": [
    "grafico_faixas(15, 30)\n",
    "grafico_faixas(35, 50)"
   ]
  },
  {
   "cell_type": "code",
   "execution_count": 120,
   "metadata": {},
   "outputs": [
    {
     "data": {
      "text/plain": [
       "Index(['IDADEMAE', 'ESTCIVMAE', 'ESCMAE', 'QTDFILVIVO', 'QTDFILMORT',\n",
       "       'GESTACAO', 'GRAVIDEZ', 'PARTO', 'CONSULTAS', 'DTNASC', 'HORANASC',\n",
       "       'SEXO', 'APGAR1', 'APGAR5', 'RACACOR', 'PESO', 'IDANOMAL', 'DTCADASTRO',\n",
       "       'NATURALMAE', 'DTNASCMAE', 'RACACORMAE', 'QTDGESTANT', 'QTDPARTNOR',\n",
       "       'QTDPARTCES', 'IDADEPAI', 'CONSPRENAT', 'MESPRENAT', 'munResNome',\n",
       "       'munResUf', 'munResLat', 'munResLon', 'munResAlt', 'munResArea',\n",
       "       'DTNASC_DIA', 'DTNASC_MES', 'DTCADASTRO_DIA', 'DTCADASTRO_MES',\n",
       "       'DTNASCMAE_DIA', 'DTNASCMAE_MES', 'faixa_mae', 'faixa_pai',\n",
       "       'diferenca'],\n",
       "      dtype='object')"
      ]
     },
     "execution_count": 120,
     "metadata": {},
     "output_type": "execute_result"
    }
   ],
   "source": [
    "PAIS.columns"
   ]
  },
  {
   "cell_type": "code",
   "execution_count": 135,
   "metadata": {},
   "outputs": [
    {
     "data": {
      "text/html": [
       "<div>\n",
       "<style scoped>\n",
       "    .dataframe tbody tr th:only-of-type {\n",
       "        vertical-align: middle;\n",
       "    }\n",
       "\n",
       "    .dataframe tbody tr th {\n",
       "        vertical-align: top;\n",
       "    }\n",
       "\n",
       "    .dataframe thead th {\n",
       "        text-align: right;\n",
       "    }\n",
       "</style>\n",
       "<table border=\"1\" class=\"dataframe\">\n",
       "  <thead>\n",
       "    <tr style=\"text-align: right;\">\n",
       "      <th></th>\n",
       "      <th>diferenca</th>\n",
       "    </tr>\n",
       "    <tr>\n",
       "      <th>ESCMAE</th>\n",
       "      <th></th>\n",
       "    </tr>\n",
       "  </thead>\n",
       "  <tbody>\n",
       "    <tr>\n",
       "      <th>1 a 3 anos</th>\n",
       "      <td>7.238095</td>\n",
       "    </tr>\n",
       "    <tr>\n",
       "      <th>12 anos ou mais</th>\n",
       "      <td>4.867303</td>\n",
       "    </tr>\n",
       "    <tr>\n",
       "      <th>4 a 7 anos</th>\n",
       "      <td>6.733108</td>\n",
       "    </tr>\n",
       "    <tr>\n",
       "      <th>8 a 11 anos</th>\n",
       "      <td>5.523161</td>\n",
       "    </tr>\n",
       "    <tr>\n",
       "      <th>Nenhuma</th>\n",
       "      <td>6.666667</td>\n",
       "    </tr>\n",
       "  </tbody>\n",
       "</table>\n",
       "</div>"
      ],
      "text/plain": [
       "                 diferenca\n",
       "ESCMAE                    \n",
       "1 a 3 anos        7.238095\n",
       "12 anos ou mais   4.867303\n",
       "4 a 7 anos        6.733108\n",
       "8 a 11 anos       5.523161\n",
       "Nenhuma           6.666667"
      ]
     },
     "metadata": {},
     "output_type": "display_data"
    },
    {
     "data": {
      "text/html": [
       "<div>\n",
       "<style scoped>\n",
       "    .dataframe tbody tr th:only-of-type {\n",
       "        vertical-align: middle;\n",
       "    }\n",
       "\n",
       "    .dataframe tbody tr th {\n",
       "        vertical-align: top;\n",
       "    }\n",
       "\n",
       "    .dataframe thead th {\n",
       "        text-align: right;\n",
       "    }\n",
       "</style>\n",
       "<table border=\"1\" class=\"dataframe\">\n",
       "  <thead>\n",
       "    <tr style=\"text-align: right;\">\n",
       "      <th></th>\n",
       "      <th>diferenca</th>\n",
       "    </tr>\n",
       "    <tr>\n",
       "      <th>GRAVIDEZ</th>\n",
       "      <th></th>\n",
       "    </tr>\n",
       "  </thead>\n",
       "  <tbody>\n",
       "    <tr>\n",
       "      <th>Dupla</th>\n",
       "      <td>6.52809</td>\n",
       "    </tr>\n",
       "    <tr>\n",
       "      <th>Única</th>\n",
       "      <td>5.48400</td>\n",
       "    </tr>\n",
       "  </tbody>\n",
       "</table>\n",
       "</div>"
      ],
      "text/plain": [
       "          diferenca\n",
       "GRAVIDEZ           \n",
       "Dupla       6.52809\n",
       "Única       5.48400"
      ]
     },
     "metadata": {},
     "output_type": "display_data"
    },
    {
     "data": {
      "text/html": [
       "<div>\n",
       "<style scoped>\n",
       "    .dataframe tbody tr th:only-of-type {\n",
       "        vertical-align: middle;\n",
       "    }\n",
       "\n",
       "    .dataframe tbody tr th {\n",
       "        vertical-align: top;\n",
       "    }\n",
       "\n",
       "    .dataframe thead th {\n",
       "        text-align: right;\n",
       "    }\n",
       "</style>\n",
       "<table border=\"1\" class=\"dataframe\">\n",
       "  <thead>\n",
       "    <tr style=\"text-align: right;\">\n",
       "      <th></th>\n",
       "      <th>diferenca</th>\n",
       "    </tr>\n",
       "    <tr>\n",
       "      <th>RACACOR</th>\n",
       "      <th></th>\n",
       "    </tr>\n",
       "  </thead>\n",
       "  <tbody>\n",
       "    <tr>\n",
       "      <th>Amarela</th>\n",
       "      <td>4.685185</td>\n",
       "    </tr>\n",
       "    <tr>\n",
       "      <th>Branca</th>\n",
       "      <td>5.109290</td>\n",
       "    </tr>\n",
       "    <tr>\n",
       "      <th>Indígena</th>\n",
       "      <td>6.198113</td>\n",
       "    </tr>\n",
       "    <tr>\n",
       "      <th>Parda</th>\n",
       "      <td>5.608931</td>\n",
       "    </tr>\n",
       "    <tr>\n",
       "      <th>Preta</th>\n",
       "      <td>6.270627</td>\n",
       "    </tr>\n",
       "  </tbody>\n",
       "</table>\n",
       "</div>"
      ],
      "text/plain": [
       "          diferenca\n",
       "RACACOR            \n",
       "Amarela    4.685185\n",
       "Branca     5.109290\n",
       "Indígena   6.198113\n",
       "Parda      5.608931\n",
       "Preta      6.270627"
      ]
     },
     "metadata": {},
     "output_type": "display_data"
    },
    {
     "data": {
      "text/html": [
       "<div>\n",
       "<style scoped>\n",
       "    .dataframe tbody tr th:only-of-type {\n",
       "        vertical-align: middle;\n",
       "    }\n",
       "\n",
       "    .dataframe tbody tr th {\n",
       "        vertical-align: top;\n",
       "    }\n",
       "\n",
       "    .dataframe thead th {\n",
       "        text-align: right;\n",
       "    }\n",
       "</style>\n",
       "<table border=\"1\" class=\"dataframe\">\n",
       "  <thead>\n",
       "    <tr style=\"text-align: right;\">\n",
       "      <th></th>\n",
       "      <th>diferenca</th>\n",
       "    </tr>\n",
       "    <tr>\n",
       "      <th>GESTACAO</th>\n",
       "      <th></th>\n",
       "    </tr>\n",
       "  </thead>\n",
       "  <tbody>\n",
       "    <tr>\n",
       "      <th>22 a 27 semanas</th>\n",
       "      <td>6.882353</td>\n",
       "    </tr>\n",
       "    <tr>\n",
       "      <th>28 a 31 semanas</th>\n",
       "      <td>6.043478</td>\n",
       "    </tr>\n",
       "    <tr>\n",
       "      <th>32 a 36 semanas</th>\n",
       "      <td>5.894531</td>\n",
       "    </tr>\n",
       "    <tr>\n",
       "      <th>37 a 41 semanas</th>\n",
       "      <td>5.460955</td>\n",
       "    </tr>\n",
       "    <tr>\n",
       "      <th>42 semanas e mais</th>\n",
       "      <td>5.461905</td>\n",
       "    </tr>\n",
       "    <tr>\n",
       "      <th>Menos de 22 semanas</th>\n",
       "      <td>2.000000</td>\n",
       "    </tr>\n",
       "  </tbody>\n",
       "</table>\n",
       "</div>"
      ],
      "text/plain": [
       "                     diferenca\n",
       "GESTACAO                      \n",
       "22 a 27 semanas       6.882353\n",
       "28 a 31 semanas       6.043478\n",
       "32 a 36 semanas       5.894531\n",
       "37 a 41 semanas       5.460955\n",
       "42 semanas e mais     5.461905\n",
       "Menos de 22 semanas   2.000000"
      ]
     },
     "metadata": {},
     "output_type": "display_data"
    }
   ],
   "source": [
    "display(pd.DataFrame(PAIS.groupby('ESCMAE')['diferenca'].mean()))\n",
    "display(pd.DataFrame(PAIS.groupby('GRAVIDEZ')['diferenca'].mean()))\n",
    "display(pd.DataFrame(PAIS.groupby('RACACOR')['diferenca'].mean()))\n",
    "display(pd.DataFrame(PAIS.groupby('GESTACAO')['diferenca'].mean()))"
   ]
  }
 ],
 "metadata": {
  "kernelspec": {
   "display_name": "Python 3",
   "language": "python",
   "name": "python3"
  },
  "language_info": {
   "codemirror_mode": {
    "name": "ipython",
    "version": 3
   },
   "file_extension": ".py",
   "mimetype": "text/x-python",
   "name": "python",
   "nbconvert_exporter": "python",
   "pygments_lexer": "ipython3",
   "version": "3.11.5"
  }
 },
 "nbformat": 4,
 "nbformat_minor": 2
}
