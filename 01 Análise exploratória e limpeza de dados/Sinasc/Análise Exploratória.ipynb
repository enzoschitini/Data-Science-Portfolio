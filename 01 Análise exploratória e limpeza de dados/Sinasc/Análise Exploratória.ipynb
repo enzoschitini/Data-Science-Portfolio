{
 "cells": [
  {
   "cell_type": "markdown",
   "metadata": {},
   "source": [
    "# Análise Exploratória\n",
    "Na minha opinião, a análise exploratória é uma das fases mais importantes de qualquer projeto que lide com dados. Aqui o objetivo é entender o contexto em que trabalharemos e como são os dados que temos que explorar, para termos toda uma documentação que precisaremos para criar os próximos algoritmos, mesmo os de Machine Learning. Acredito que mesmo nesta fase já podemos encontrar alguns Insights.\n",
    "\n",
    "<img src=\"https://raw.githubusercontent.com/enzoschitini/Data-Science-Portfolio/main/01%20An%C3%A1lise%20explorat%C3%B3ria%20e%20limpeza%20de%20dados/E-commerce%20Customer%20Data%20For%20Behavior%20Analysis/Image/Copertina.png\" alt=\"capa\">\n",
    "\n",
    "---\n",
    "\n",
    "# **SINASC** • Sistema de Informação sobre Nascidos Vivos\n",
    "Un'indagine completa sull'andamento demografico e sanitario nel 2019 nello stato di Rondônia in Brasile. Partiamo ad analizzare i dati del sistema informativo sui nati in vivo (SINASC), l'obiettivo è quello di effettuare un'analisi approfondita dell'argomento, questo progetto si propone di trovare spunti e rispondere a una serie di domande cruciali.\n",
    "\n",
    "**Data Science** Portfólio | *27 Abril 2024*\n",
    "\n",
    "[Enzo Schitini](https://www.linkedin.com/in/enzoschitini/) - Data Scientist • Expert Bubble.io • UX & UI @ Nugus creator\n",
    "\n",
    "---"
   ]
  },
  {
   "cell_type": "markdown",
   "metadata": {},
   "source": [
    "## O que você vai encontrar neste notebook? 👋\n",
    "\n",
    "Una volta completata l'analisi esplorativa, passeremo a identificare insights significativi e tendenze emergenti nei dati. Utilizzeremo approcci statistici e analitici per individuare correlazioni, modelli e associazioni tra le variabili. Attraverso l'uso di tecniche analitiche, cercheremo di estrarre informazioni rilevanti e utili per comprendere meglio i fattori che influenzano la salute neonatale a Rondônia. Inoltre, esploreremo l'impatto delle variabili socio-economiche e demografiche sulla salute materna e sulle condizioni di nascita.\n",
    "\n",
    "#### - *Contexto os dados*\n",
    "Benvenuti all'analisi esaustiva dei dati relativi ai neonati nati nello stato di Rondônia, Brasile, nell'anno 2019. Questo progetto ci permette di esplorare e comprendere l'andamento demografico e sanitario di questa regione attraverso l'analisi dettagliata dei dati forniti dal Sistema di Informazioni sulla Nascita (SINASC).\n",
    "\n",
    "Con un focus incisivo sui neonati, questo set di dati contiene una ricchezza di informazioni cruciali, dalla salute materna e condizioni di nascita alla distribuzione demografica e ai fattori socio-economici. I dati raccolti offrono una panoramica unica sulla salute della popolazione neonata, consentendo agli analisti di individuare tendenze significative, identificare punti critici e proporre soluzioni innovative per migliorare il benessere dei neonati e delle loro famiglie.\n",
    "\n",
    "Il set di dati può essere trovato sul sito del governo brasiliano, e segue le politiche dellla privicy, ovvero non ci sono nomi di persone oppure qualcosa che ci permetta di sapere chi sono gli individui."
   ]
  },
  {
   "cell_type": "markdown",
   "metadata": {},
   "source": [
    "> Os dados foram fornecidos pelo [Kaggle](https://www.kaggle.com/datasets/olistbr/brazilian-ecommerce)"
   ]
  },
  {
   "cell_type": "markdown",
   "metadata": {},
   "source": [
    "## 🔥 Vamos começar!!!"
   ]
  },
  {
   "cell_type": "markdown",
   "metadata": {},
   "source": [
    "### **`Tópicos`**\n",
    "\n",
    "<ol type=\"1\">\n",
    "  <li>Preparação o ambiente de desenvolvimento</li>\n",
    "  <li>Entender a estrutura dos dados e colunas (Tratamento)</li>\n",
    "  <li>Visualização</li>\n",
    "  <li>Métricas</li>\n",
    "  <li>Conclusão e hipótese</li>\n",
    "</ol>\n",
    "\n",
    "##### Abaixo você encontrará algumas insights e códigos sobre esses dados. Mas se quiser acessar um material somente com os insights, baixe o [PDF](https://drive.google.com/file/d/1fK1ocDTSzMpDhKy8jJ1yU3LN1Tm-gxcV/view?usp=drivesdk)\n",
    "\n",
    "---"
   ]
  }
 ],
 "metadata": {
  "kernelspec": {
   "display_name": "Python 3",
   "language": "python",
   "name": "python3"
  },
  "language_info": {
   "name": "python",
   "version": "3.11.5"
  }
 },
 "nbformat": 4,
 "nbformat_minor": 2
}
