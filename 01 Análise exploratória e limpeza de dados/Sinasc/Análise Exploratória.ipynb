{
 "cells": [
  {
   "cell_type": "markdown",
   "metadata": {},
   "source": [
    "# Análise Exploratória\n",
    "Na minha opinião, a análise exploratória é uma das fases mais importantes de qualquer projeto que lide com dados. Aqui o objetivo é entender o contexto em que trabalharemos e como são os dados que temos que explorar, para termos toda uma documentação que precisaremos para criar os próximos algoritmos, mesmo os de Machine Learning. Acredito que mesmo nesta fase já podemos encontrar alguns Insights.\n",
    "\n",
    "<img src=\"https://raw.githubusercontent.com/enzoschitini/Data-Science-Portfolio/main/01%20An%C3%A1lise%20explorat%C3%B3ria%20e%20limpeza%20de%20dados/Sinasc/image/Copetina.png\" alt=\"capa\">\n",
    "\n",
    "---\n",
    "\n",
    "# **SINASC** • Sistema de Informação sobre Nascidos Vivos\n",
    "Uma pesquisa abrangente sobre tendências demográficas e de saúde em 2019 no estado de Rondônia, no Brasil. Comecemos por analisar os dados do sistema de informação sobre nascidos vivos (SINASC), o objetivo é realizar uma análise aprofundada do tema, este projeto visa encontrar ideias e responder a uma série de questões cruciais.\n",
    "\n",
    "**Data Science** Portfólio | *27 Abril 2024*\n",
    "\n",
    "[Enzo Schitini](https://www.linkedin.com/in/enzoschitini/) - Data Scientist • Expert Bubble.io • UX & UI @ Nugus creator\n",
    "\n",
    "---"
   ]
  },
  {
   "cell_type": "markdown",
   "metadata": {},
   "source": [
    "## O que você vai encontrar neste notebook? 👋\n",
    "\n",
    "Assim que a análise exploratória for concluída, prosseguiremos para identificar insights significativos e tendências emergentes nos dados. Usaremos abordagens estatísticas e analíticas para identificar correlações, padrões e associações entre variáveis. Através do uso de técnicas analíticas, tentaremos extrair informações relevantes e úteis para melhor compreender os fatores que influenciam a saúde neonatal em Rondônia. Além disso, exploraremos o impacto das variáveis ​​socioeconómicas e demográficas na saúde materna e nas condições de nascimento.\n",
    "\n",
    "#### - *Contexto os dados*\n",
    "Bem-vindos à análise exaustiva dos dados relativos aos recém-nascidos nascidos no estado de Rondônia, Brasil, no ano de 2019. Este projeto nos permite explorar e compreender as tendências demográficas e de saúde desta região através da análise detalhada dos dados fornecidos pelo Sistema de Informações sobre Nascimento (SINASC).\n",
    "\n",
    "Com um enfoque incisivo nos recém-nascidos, este conjunto de dados contém uma riqueza de informações cruciais, desde a saúde materna e as condições de nascimento até à distribuição demográfica e factores socioeconómicos. Os dados recolhidos oferecem uma visão única da saúde da população recém-nascida, permitindo aos analistas identificar tendências significativas, identificar pontos críticos e propor soluções inovadoras para melhorar o bem-estar dos recém-nascidos e das suas famílias.\n",
    "\n",
    "O conjunto de dados pode ser encontrado no site do governo brasileiro e segue políticas de privacidade, o que significa que não há nomes de pessoas ou qualquer coisa que nos permita saber quem são os indivíduos."
   ]
  },
  {
   "cell_type": "markdown",
   "metadata": {},
   "source": [
    "<img src=\"https://raw.githubusercontent.com/enzoschitini/Data-Science-Portfolio/main/01%20An%C3%A1lise%20explorat%C3%B3ria%20e%20limpeza%20de%20dados/Sinasc/image/fonte.png\" alt=\"capa\" width=\"310\">\n",
    "\n",
    "\n",
    "> Os dados foram fornecidos pelo [DATASUS](https://datasus.saude.gov.br/)"
   ]
  },
  {
   "cell_type": "markdown",
   "metadata": {},
   "source": [
    "## 🔥 Vamos começar!!!"
   ]
  },
  {
   "cell_type": "markdown",
   "metadata": {},
   "source": [
    "### **`Tópicos`**\n",
    "\n",
    "<ol type=\"1\">\n",
    "  <li>Preparação o ambiente de desenvolvimento</li>\n",
    "  <li>Entender a estrutura dos dados e colunas (Tratamento)</li>\n",
    "  <li>Visualização</li>\n",
    "  <li>Métricas</li>\n",
    "  <li>Conclusão e hipótese</li>\n",
    "</ol>\n",
    "\n",
    "##### Abaixo você encontrará algumas insights e códigos sobre esses dados. Mas se quiser acessar um material somente com os insights, baixe o [PDF](https://drive.google.com/file/d/1fK1ocDTSzMpDhKy8jJ1yU3LN1Tm-gxcV/view?usp=drivesdk)\n",
    "\n",
    "---"
   ]
  }
 ],
 "metadata": {
  "kernelspec": {
   "display_name": "Python 3",
   "language": "python",
   "name": "python3"
  },
  "language_info": {
   "name": "python",
   "version": "3.11.5"
  }
 },
 "nbformat": 4,
 "nbformat_minor": 2
}
