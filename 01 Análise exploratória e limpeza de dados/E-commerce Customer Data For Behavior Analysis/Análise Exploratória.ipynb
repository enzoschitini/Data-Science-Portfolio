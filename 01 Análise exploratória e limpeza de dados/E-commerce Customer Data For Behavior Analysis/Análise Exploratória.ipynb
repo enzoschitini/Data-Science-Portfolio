{
 "cells": [
  {
   "cell_type": "markdown",
   "metadata": {},
   "source": [
    "# Análise Exploratória\n",
    "Na minha opinião, a análise exploratória é uma das fases mais importantes de qualquer projeto que lide com dados. Aqui o objetivo é entender o contexto em que trabalharemos e como são os dados que temos que explorar, para termos toda uma documentação que precisaremos para criar os próximos algoritmos, mesmo os de Machine Learning. Acredito que mesmo nesta fase já podemos encontrar alguns Insights.\n",
    "\n",
    "<img src=\"https://raw.githubusercontent.com/enzoschitini/Data-Science-Portfolio/main/01%20An%C3%A1lise%20explorat%C3%B3ria%20e%20limpeza%20de%20dados/E-commerce%20Customer%20Data%20For%20Behavior%20Analysis/Image/Group%2055.png\" alt=\"ebac-logo\">\n",
    "\n",
    "---\n",
    "\n",
    "# **Scituffy** | Python: E-Commerce Customer Data For Behavior Analysis\n",
    "Fiz uma análise das vendas de um E-Commerce para entender melhor como são seus clientes. Além disso, após a análise, um modelo de aprendizado de máquina também pode ser desenvolvido para prever se um cliente sairá da plataforma.\n",
    "\n",
    "**Data Science** Portfóli\n",
    "\n",
    "[Enzo Schitini](https://www.linkedin.com/in/enzoschitini/) - Data Scientist • Expert Bubble.io • UX & UI @ Nugus creator\n",
    "\n",
    "---"
   ]
  },
  {
   "cell_type": "markdown",
   "metadata": {},
   "source": [
    "## O que você vai encontrar neste notebook? 👋\n",
    "\n",
    "A ciência sempre me fascinou pelo fato de podermos descobrir coisas novas. E foi por essa vontade de fazer descobertas que me tornei Data Scientist, para resolver problemas reais e fazer as tais descobertas.\n",
    "\n",
    "#### - *Contexto os dados*\n",
    "É um conjunto de dados sintético gerado usando a biblioteca Faker Python. Ele simula um ambiente completo de comércio eletrônico, capturando diversos aspectos do comportamento do cliente e do histórico de compras em um mercado digital. Este conjunto de dados foi projetado para análise de dados e modelagem preditiva na área de comércio eletrônico. É adequado para tarefas como previsão de rotatividade de clientes, análise de cesta de compras, sistemas de recomendação e análise de tendências."
   ]
  },
  {
   "cell_type": "markdown",
   "metadata": {},
   "source": [
    "- `Informações da coluna:`"
   ]
  },
  {
   "cell_type": "markdown",
   "metadata": {},
   "source": [
    "| Coluna  | Descrição |\n",
    "| ------- | --------- |\n",
    "| ID do cliente | Um identificador exclusivo para cada cliente. |\n",
    "| Nome do cliente | O nome do cliente (gerado pelo Faker) |\n",
    "| Idade do cliente | A idade do cliente (gerada pelo Faker) |\n",
    "| Gênero | O gênero do cliente (gerado por Faker)    |\n",
    "| Data da compra | A data de cada compra feita pelo cliente |\n",
    "| Categoria do produto | A categoria ou o tipo do produto adquirido |\n",
    "| Preço do produto | O preço do produto adquirido |\n",
    "| Quantidade | A quantidade do produto comprado |\n",
    "| Valor total da compra | O valor total gasto pelo cliente em cada transação |\n",
    "| Método de pagamento | O método de pagamento usado pelo cliente (por exemplo, cartão de crédito, PayPal) |\n",
    "| Devoluções | Se o cliente devolveu algum produto do pedido (binário: 0 para nenhuma devolução, 1 para devolução) |\n",
    "| Churn | Uma coluna binária que indica se o cliente agitou (0 para retido, 1 para agitado) |"
   ]
  },
  {
   "cell_type": "markdown",
   "metadata": {},
   "source": [
    "> Os dados foram fornecidos pelo [Kaggle](https://www.kaggle.com/datasets/shriyashjagtap/e-commerce-customer-for-behavior-analysis)"
   ]
  },
  {
   "cell_type": "markdown",
   "metadata": {},
   "source": [
    "## 🔥 Vamos começar!!!"
   ]
  },
  {
   "cell_type": "markdown",
   "metadata": {},
   "source": [
    "### **`Tópicos`**\n",
    "\n",
    "<ol type=\"1\">\n",
    "  <li>Carregamento dos dados e dos pacotes</li>\n",
    "  <li>Entender a estrutura</li>\n",
    "  <li>Tratamemto</li>\n",
    "  <li>Atributos e colunas</li>\n",
    "  <li>Métricas e visualização</li>\n",
    "</ol>\n",
    "\n",
    "##### Abaixo você encontrará algumas insights e códigos sobre esses dados. Mas se quiser acessar um material somente com os insights, baixe o [PDF](https://drive.google.com/file/d/1fK1ocDTSzMpDhKy8jJ1yU3LN1Tm-gxcV/view?usp=drivesdk)\n",
    "\n",
    "---"
   ]
  },
  {
   "cell_type": "markdown",
   "metadata": {},
   "source": [
    "## 1.0 Carregamento dos dados e dos pacotes"
   ]
  },
  {
   "cell_type": "code",
   "execution_count": 66,
   "metadata": {},
   "outputs": [],
   "source": [
    "import pandas as pd\n",
    "import missingno as msno\n",
    "\n",
    "from main import GuidaDataframe"
   ]
  },
  {
   "cell_type": "code",
   "execution_count": 67,
   "metadata": {},
   "outputs": [
    {
     "data": {
      "text/html": [
       "<div>\n",
       "<style scoped>\n",
       "    .dataframe tbody tr th:only-of-type {\n",
       "        vertical-align: middle;\n",
       "    }\n",
       "\n",
       "    .dataframe tbody tr th {\n",
       "        vertical-align: top;\n",
       "    }\n",
       "\n",
       "    .dataframe thead th {\n",
       "        text-align: right;\n",
       "    }\n",
       "</style>\n",
       "<table border=\"1\" class=\"dataframe\">\n",
       "  <thead>\n",
       "    <tr style=\"text-align: right;\">\n",
       "      <th></th>\n",
       "      <th>Customer ID</th>\n",
       "      <th>Purchase Date</th>\n",
       "      <th>Product Category</th>\n",
       "      <th>Product Price</th>\n",
       "      <th>Quantity</th>\n",
       "      <th>Total Purchase Amount</th>\n",
       "      <th>Payment Method</th>\n",
       "      <th>Customer Age</th>\n",
       "      <th>Returns</th>\n",
       "      <th>Customer Name</th>\n",
       "      <th>Age</th>\n",
       "      <th>Gender</th>\n",
       "      <th>Churn</th>\n",
       "    </tr>\n",
       "  </thead>\n",
       "  <tbody>\n",
       "    <tr>\n",
       "      <th>0</th>\n",
       "      <td>44605</td>\n",
       "      <td>2023-05-03 21:30:02</td>\n",
       "      <td>Home</td>\n",
       "      <td>177</td>\n",
       "      <td>1</td>\n",
       "      <td>2427</td>\n",
       "      <td>PayPal</td>\n",
       "      <td>31</td>\n",
       "      <td>1.0</td>\n",
       "      <td>John Rivera</td>\n",
       "      <td>31</td>\n",
       "      <td>Female</td>\n",
       "      <td>0</td>\n",
       "    </tr>\n",
       "    <tr>\n",
       "      <th>1</th>\n",
       "      <td>44605</td>\n",
       "      <td>2021-05-16 13:57:44</td>\n",
       "      <td>Electronics</td>\n",
       "      <td>174</td>\n",
       "      <td>3</td>\n",
       "      <td>2448</td>\n",
       "      <td>PayPal</td>\n",
       "      <td>31</td>\n",
       "      <td>1.0</td>\n",
       "      <td>John Rivera</td>\n",
       "      <td>31</td>\n",
       "      <td>Female</td>\n",
       "      <td>0</td>\n",
       "    </tr>\n",
       "    <tr>\n",
       "      <th>2</th>\n",
       "      <td>44605</td>\n",
       "      <td>2020-07-13 06:16:57</td>\n",
       "      <td>Books</td>\n",
       "      <td>413</td>\n",
       "      <td>1</td>\n",
       "      <td>2345</td>\n",
       "      <td>Credit Card</td>\n",
       "      <td>31</td>\n",
       "      <td>1.0</td>\n",
       "      <td>John Rivera</td>\n",
       "      <td>31</td>\n",
       "      <td>Female</td>\n",
       "      <td>0</td>\n",
       "    </tr>\n",
       "    <tr>\n",
       "      <th>3</th>\n",
       "      <td>44605</td>\n",
       "      <td>2023-01-17 13:14:36</td>\n",
       "      <td>Electronics</td>\n",
       "      <td>396</td>\n",
       "      <td>3</td>\n",
       "      <td>937</td>\n",
       "      <td>Cash</td>\n",
       "      <td>31</td>\n",
       "      <td>0.0</td>\n",
       "      <td>John Rivera</td>\n",
       "      <td>31</td>\n",
       "      <td>Female</td>\n",
       "      <td>0</td>\n",
       "    </tr>\n",
       "    <tr>\n",
       "      <th>4</th>\n",
       "      <td>44605</td>\n",
       "      <td>2021-05-01 11:29:27</td>\n",
       "      <td>Books</td>\n",
       "      <td>259</td>\n",
       "      <td>4</td>\n",
       "      <td>2598</td>\n",
       "      <td>PayPal</td>\n",
       "      <td>31</td>\n",
       "      <td>1.0</td>\n",
       "      <td>John Rivera</td>\n",
       "      <td>31</td>\n",
       "      <td>Female</td>\n",
       "      <td>0</td>\n",
       "    </tr>\n",
       "  </tbody>\n",
       "</table>\n",
       "</div>"
      ],
      "text/plain": [
       "   Customer ID        Purchase Date Product Category  Product Price  Quantity  \\\n",
       "0        44605  2023-05-03 21:30:02             Home            177         1   \n",
       "1        44605  2021-05-16 13:57:44      Electronics            174         3   \n",
       "2        44605  2020-07-13 06:16:57            Books            413         1   \n",
       "3        44605  2023-01-17 13:14:36      Electronics            396         3   \n",
       "4        44605  2021-05-01 11:29:27            Books            259         4   \n",
       "\n",
       "   Total Purchase Amount Payment Method  Customer Age  Returns Customer Name  \\\n",
       "0                   2427         PayPal            31      1.0   John Rivera   \n",
       "1                   2448         PayPal            31      1.0   John Rivera   \n",
       "2                   2345    Credit Card            31      1.0   John Rivera   \n",
       "3                    937           Cash            31      0.0   John Rivera   \n",
       "4                   2598         PayPal            31      1.0   John Rivera   \n",
       "\n",
       "   Age  Gender  Churn  \n",
       "0   31  Female      0  \n",
       "1   31  Female      0  \n",
       "2   31  Female      0  \n",
       "3   31  Female      0  \n",
       "4   31  Female      0  "
      ]
     },
     "execution_count": 67,
     "metadata": {},
     "output_type": "execute_result"
    }
   ],
   "source": [
    "df = pd.read_csv(\"Data\\ecommerce_customer_data_large.csv\")\n",
    "df.head()"
   ]
  },
  {
   "cell_type": "markdown",
   "metadata": {},
   "source": [
    "### 1.1 Estrutura dos dados\n",
    "Entender a estrutura dos dados significa saber quantas Linhas e Colunas existem, se há dados duplicados ou não, o Nome das colunas, seu tipo, sua quantidade de categorias, quantos dados nulos e a porcentagem deles."
   ]
  },
  {
   "cell_type": "markdown",
   "metadata": {},
   "source": [
    "- Linhas e colunas"
   ]
  },
  {
   "cell_type": "code",
   "execution_count": 68,
   "metadata": {},
   "outputs": [
    {
     "name": "stdout",
     "output_type": "stream",
     "text": [
      "Temos 250000 linhas e 13 colunas.\n"
     ]
    }
   ],
   "source": [
    "linhas, colunas = df.shape\n",
    "print(f'Temos {linhas} linhas e {colunas} colunas.')"
   ]
  },
  {
   "cell_type": "markdown",
   "metadata": {},
   "source": [
    "- Linhas duplicadas"
   ]
  },
  {
   "cell_type": "code",
   "execution_count": 69,
   "metadata": {},
   "outputs": [],
   "source": [
    "df.drop_duplicates(inplace=True)"
   ]
  },
  {
   "cell_type": "markdown",
   "metadata": {},
   "source": [
    "#### `Schema`\n",
    "Agora vamos ver com mais detalhes como é a estrutura das colunas"
   ]
  },
  {
   "cell_type": "code",
   "execution_count": 70,
   "metadata": {},
   "outputs": [
    {
     "name": "stdout",
     "output_type": "stream",
     "text": [
      "Tabela Exploratória\n",
      "Nesses dados temos 250.000 linhas e 13 colunas.\n",
      "Consumo de memória: 95.43Mb.\n"
     ]
    },
    {
     "data": {
      "text/html": [
       "<div>\n",
       "<style scoped>\n",
       "    .dataframe tbody tr th:only-of-type {\n",
       "        vertical-align: middle;\n",
       "    }\n",
       "\n",
       "    .dataframe tbody tr th {\n",
       "        vertical-align: top;\n",
       "    }\n",
       "\n",
       "    .dataframe thead th {\n",
       "        text-align: right;\n",
       "    }\n",
       "</style>\n",
       "<table border=\"1\" class=\"dataframe\">\n",
       "  <thead>\n",
       "    <tr style=\"text-align: right;\">\n",
       "      <th></th>\n",
       "      <th>Nome</th>\n",
       "      <th>Tipo</th>\n",
       "      <th>qnt_categorias</th>\n",
       "      <th>Dados nulos</th>\n",
       "      <th>Dados nulos %</th>\n",
       "      <th>Memória (Mb)</th>\n",
       "    </tr>\n",
       "  </thead>\n",
       "  <tbody>\n",
       "    <tr>\n",
       "      <th>1</th>\n",
       "      <td>Customer ID</td>\n",
       "      <td>numpy.int64</td>\n",
       "      <td>49661</td>\n",
       "      <td>0</td>\n",
       "      <td>0.0</td>\n",
       "      <td>2.0</td>\n",
       "    </tr>\n",
       "    <tr>\n",
       "      <th>2</th>\n",
       "      <td>Purchase Date</td>\n",
       "      <td>str</td>\n",
       "      <td>249728</td>\n",
       "      <td>0</td>\n",
       "      <td>0.0</td>\n",
       "      <td>18.0</td>\n",
       "    </tr>\n",
       "    <tr>\n",
       "      <th>3</th>\n",
       "      <td>Product Category</td>\n",
       "      <td>str</td>\n",
       "      <td>4</td>\n",
       "      <td>0</td>\n",
       "      <td>0.0</td>\n",
       "      <td>15.0</td>\n",
       "    </tr>\n",
       "    <tr>\n",
       "      <th>4</th>\n",
       "      <td>Product Price</td>\n",
       "      <td>numpy.int64</td>\n",
       "      <td>491</td>\n",
       "      <td>0</td>\n",
       "      <td>0.0</td>\n",
       "      <td>2.0</td>\n",
       "    </tr>\n",
       "    <tr>\n",
       "      <th>5</th>\n",
       "      <td>Quantity</td>\n",
       "      <td>numpy.int64</td>\n",
       "      <td>5</td>\n",
       "      <td>0</td>\n",
       "      <td>0.0</td>\n",
       "      <td>2.0</td>\n",
       "    </tr>\n",
       "    <tr>\n",
       "      <th>6</th>\n",
       "      <td>Total Purchase Amount</td>\n",
       "      <td>numpy.int64</td>\n",
       "      <td>5245</td>\n",
       "      <td>0</td>\n",
       "      <td>0.0</td>\n",
       "      <td>2.0</td>\n",
       "    </tr>\n",
       "    <tr>\n",
       "      <th>7</th>\n",
       "      <td>Payment Method</td>\n",
       "      <td>str</td>\n",
       "      <td>3</td>\n",
       "      <td>0</td>\n",
       "      <td>0.0</td>\n",
       "      <td>15.0</td>\n",
       "    </tr>\n",
       "    <tr>\n",
       "      <th>8</th>\n",
       "      <td>Customer Age</td>\n",
       "      <td>numpy.int64</td>\n",
       "      <td>53</td>\n",
       "      <td>0</td>\n",
       "      <td>0.0</td>\n",
       "      <td>2.0</td>\n",
       "    </tr>\n",
       "    <tr>\n",
       "      <th>9</th>\n",
       "      <td>Returns</td>\n",
       "      <td>numpy.float64</td>\n",
       "      <td>2</td>\n",
       "      <td>47382</td>\n",
       "      <td>19.0</td>\n",
       "      <td>2.0</td>\n",
       "    </tr>\n",
       "    <tr>\n",
       "      <th>10</th>\n",
       "      <td>Customer Name</td>\n",
       "      <td>str</td>\n",
       "      <td>39878</td>\n",
       "      <td>0</td>\n",
       "      <td>0.0</td>\n",
       "      <td>17.0</td>\n",
       "    </tr>\n",
       "    <tr>\n",
       "      <th>11</th>\n",
       "      <td>Age</td>\n",
       "      <td>numpy.int64</td>\n",
       "      <td>53</td>\n",
       "      <td>0</td>\n",
       "      <td>0.0</td>\n",
       "      <td>2.0</td>\n",
       "    </tr>\n",
       "    <tr>\n",
       "      <th>12</th>\n",
       "      <td>Gender</td>\n",
       "      <td>str</td>\n",
       "      <td>2</td>\n",
       "      <td>0</td>\n",
       "      <td>0.0</td>\n",
       "      <td>15.0</td>\n",
       "    </tr>\n",
       "    <tr>\n",
       "      <th>13</th>\n",
       "      <td>Churn</td>\n",
       "      <td>numpy.int64</td>\n",
       "      <td>2</td>\n",
       "      <td>0</td>\n",
       "      <td>0.0</td>\n",
       "      <td>2.0</td>\n",
       "    </tr>\n",
       "  </tbody>\n",
       "</table>\n",
       "</div>"
      ],
      "text/plain": [
       "                     Nome           Tipo  qnt_categorias  Dados nulos  \\\n",
       "1             Customer ID    numpy.int64           49661            0   \n",
       "2           Purchase Date            str          249728            0   \n",
       "3        Product Category            str               4            0   \n",
       "4           Product Price    numpy.int64             491            0   \n",
       "5                Quantity    numpy.int64               5            0   \n",
       "6   Total Purchase Amount    numpy.int64            5245            0   \n",
       "7          Payment Method            str               3            0   \n",
       "8            Customer Age    numpy.int64              53            0   \n",
       "9                 Returns  numpy.float64               2        47382   \n",
       "10          Customer Name            str           39878            0   \n",
       "11                    Age    numpy.int64              53            0   \n",
       "12                 Gender            str               2            0   \n",
       "13                  Churn    numpy.int64               2            0   \n",
       "\n",
       "    Dados nulos %  Memória (Mb)  \n",
       "1             0.0           2.0  \n",
       "2             0.0          18.0  \n",
       "3             0.0          15.0  \n",
       "4             0.0           2.0  \n",
       "5             0.0           2.0  \n",
       "6             0.0           2.0  \n",
       "7             0.0          15.0  \n",
       "8             0.0           2.0  \n",
       "9            19.0           2.0  \n",
       "10            0.0          17.0  \n",
       "11            0.0           2.0  \n",
       "12            0.0          15.0  \n",
       "13            0.0           2.0  "
      ]
     },
     "execution_count": 70,
     "metadata": {},
     "output_type": "execute_result"
    }
   ],
   "source": [
    "gd = GuidaDataframe(df)\n",
    "gd.esplorazione()"
   ]
  },
  {
   "cell_type": "markdown",
   "metadata": {},
   "source": [
    "## 2.0 Tratamento dos dados"
   ]
  },
  {
   "cell_type": "markdown",
   "metadata": {},
   "source": [
    "O DataFrame apresenta problemas em algumas colunas. Então agora vamos corrigi-los!"
   ]
  },
  {
   "cell_type": "markdown",
   "metadata": {},
   "source": [
    "### Reparando as colunas\n",
    "Colunas como `Product Category`, `Payment Method`, `Customer Name` e `Gender` são strings, isso torna os dados mais pesados ​​​​e pode tornar o algoritmo mais lento. Então agora vamos transformá-los em `category` para que seja fácil carregá-los. E como `Purchase Date` até agora também é uma string, precisamos transformá-la em `datetime`."
   ]
  },
  {
   "cell_type": "markdown",
   "metadata": {},
   "source": [
    "- Colunas de data"
   ]
  },
  {
   "cell_type": "code",
   "execution_count": 72,
   "metadata": {},
   "outputs": [],
   "source": [
    "df['Purchase Date'] = pd.to_datetime(df['Purchase Date'])"
   ]
  },
  {
   "cell_type": "code",
   "execution_count": 73,
   "metadata": {},
   "outputs": [
    {
     "name": "stdout",
     "output_type": "stream",
     "text": [
      "Os dados variam de 2020-01-01 00:07:26 a 2023-09-13 18:42:49\n"
     ]
    }
   ],
   "source": [
    "min = str(df['Purchase Date'].min())\n",
    "max = str(df['Purchase Date'].max())\n",
    "print(f'Os dados variam de {min} a {max}')"
   ]
  },
  {
   "cell_type": "markdown",
   "metadata": {},
   "source": [
    "- Colunas categóricas"
   ]
  },
  {
   "cell_type": "code",
   "execution_count": 74,
   "metadata": {},
   "outputs": [
    {
     "name": "stdout",
     "output_type": "stream",
     "text": [
      "Product Category\n",
      "['Home', 'Electronics', 'Books', 'Clothing']\n",
      "Categories (4, object): ['Books', 'Clothing', 'Electronics', 'Home']\n",
      "\n",
      "Payment Method\n",
      "['PayPal', 'Credit Card', 'Cash']\n",
      "Categories (3, object): ['Cash', 'Credit Card', 'PayPal']\n",
      "\n",
      "Customer Name\n",
      "['John Rivera', 'Lauren Johnson', 'Carol Allen', 'Curtis Smith', 'Jose Green', ..., 'Alexis Nelson', 'Dana Brown', 'Gabriel Williams', 'Barry Foster', 'Angela Norton']\n",
      "Length: 39878\n",
      "Categories (39878, object): ['Aaron Alexander', 'Aaron Archer', 'Aaron Armstrong', 'Aaron Avery', ..., 'Zoe Torres', 'Zoe Walker', 'Zoe Watson', 'Zoe Young']\n",
      "\n",
      "Gender\n",
      "['Female', 'Male']\n",
      "Categories (2, object): ['Female', 'Male']\n",
      "\n"
     ]
    }
   ],
   "source": [
    "colunas_categoricas = df.select_dtypes('object').columns.to_list()\n",
    "\n",
    "for coluna in colunas_categoricas:\n",
    "    df[coluna] = df[coluna].astype('category')\n",
    "    print(coluna)\n",
    "    print(f'{df[coluna].unique()}\\n')"
   ]
  },
  {
   "cell_type": "markdown",
   "metadata": {},
   "source": [
    "Entendemos que os nomes dos clientes podem se repetir. Então eles fazem mais de uma compra"
   ]
  },
  {
   "cell_type": "code",
   "execution_count": 75,
   "metadata": {},
   "outputs": [
    {
     "data": {
      "text/plain": [
       "Customer Name\n",
       "Michael Johnson     119\n",
       "Michael Smith       116\n",
       "Michael Brown       106\n",
       "Michael Jones        94\n",
       "James Smith          93\n",
       "                   ... \n",
       "James Cherry          1\n",
       "Valerie Hamilton      1\n",
       "James Caldwell        1\n",
       "Luis Andrews          1\n",
       "Zoe Young             1\n",
       "Name: count, Length: 39878, dtype: int64"
      ]
     },
     "execution_count": 75,
     "metadata": {},
     "output_type": "execute_result"
    }
   ],
   "source": [
    "df['Customer Name'].value_counts()"
   ]
  },
  {
   "cell_type": "code",
   "execution_count": 76,
   "metadata": {},
   "outputs": [
    {
     "name": "stdout",
     "output_type": "stream",
     "text": [
      "<class 'pandas.core.frame.DataFrame'>\n",
      "RangeIndex: 250000 entries, 0 to 249999\n",
      "Data columns (total 13 columns):\n",
      " #   Column                 Non-Null Count   Dtype         \n",
      "---  ------                 --------------   -----         \n",
      " 0   Customer ID            250000 non-null  int64         \n",
      " 1   Purchase Date          250000 non-null  datetime64[ns]\n",
      " 2   Product Category       250000 non-null  category      \n",
      " 3   Product Price          250000 non-null  int64         \n",
      " 4   Quantity               250000 non-null  int64         \n",
      " 5   Total Purchase Amount  250000 non-null  int64         \n",
      " 6   Payment Method         250000 non-null  category      \n",
      " 7   Customer Age           250000 non-null  int64         \n",
      " 8   Returns                202618 non-null  float64       \n",
      " 9   Customer Name          250000 non-null  category      \n",
      " 10  Age                    250000 non-null  int64         \n",
      " 11  Gender                 250000 non-null  category      \n",
      " 12  Churn                  250000 non-null  int64         \n",
      "dtypes: category(4), datetime64[ns](1), float64(1), int64(7)\n",
      "memory usage: 20.1 MB\n"
     ]
    }
   ],
   "source": [
    "df.info()"
   ]
  },
  {
   "cell_type": "markdown",
   "metadata": {},
   "source": [
    "### Dados faltantes"
   ]
  },
  {
   "cell_type": "code",
   "execution_count": 77,
   "metadata": {},
   "outputs": [
    {
     "data": {
      "text/plain": [
       "Customer ID                  0\n",
       "Purchase Date                0\n",
       "Product Category             0\n",
       "Product Price                0\n",
       "Quantity                     0\n",
       "Total Purchase Amount        0\n",
       "Payment Method               0\n",
       "Customer Age                 0\n",
       "Returns                  47382\n",
       "Customer Name                0\n",
       "Age                          0\n",
       "Gender                       0\n",
       "Churn                        0\n",
       "dtype: int64"
      ]
     },
     "execution_count": 77,
     "metadata": {},
     "output_type": "execute_result"
    }
   ],
   "source": [
    "df.isnull().sum()"
   ]
  },
  {
   "cell_type": "markdown",
   "metadata": {},
   "source": [
    "- Distribuição de dados faltantes"
   ]
  },
  {
   "cell_type": "code",
   "execution_count": 78,
   "metadata": {},
   "outputs": [
    {
     "data": {
      "text/plain": [
       "<Axes: >"
      ]
     },
     "execution_count": 78,
     "metadata": {},
     "output_type": "execute_result"
    },
    {
     "data": {
      "image/png": "[encoded data removed]",
      "text/plain": [
       "<Figure size 2500x1000 with 2 Axes>"
      ]
     },
     "metadata": {},
     "output_type": "display_data"
    }
   ],
   "source": [
    "msno.matrix(df)"
   ]
  },
  {
   "cell_type": "markdown",
   "metadata": {},
   "source": [
    "Sabemos agora que dados nulos aparecem ao longo de todo o período. O que isso significa? "
   ]
  },
  {
   "cell_type": "markdown",
   "metadata": {},
   "source": [
    "Isso significa que podemos remover todas as linhas que possuem dados nulos sempre que quisermos ter alguma métrica que tenha a ver com a coluna \"Returns\""
   ]
  },
  {
   "cell_type": "markdown",
   "metadata": {},
   "source": [
    "- Abaixo analisamos um pouco apenas os dados nulos"
   ]
  },
  {
   "cell_type": "code",
   "execution_count": 79,
   "metadata": {},
   "outputs": [
    {
     "data": {
      "text/html": [
       "<div>\n",
       "<style scoped>\n",
       "    .dataframe tbody tr th:only-of-type {\n",
       "        vertical-align: middle;\n",
       "    }\n",
       "\n",
       "    .dataframe tbody tr th {\n",
       "        vertical-align: top;\n",
       "    }\n",
       "\n",
       "    .dataframe thead th {\n",
       "        text-align: right;\n",
       "    }\n",
       "</style>\n",
       "<table border=\"1\" class=\"dataframe\">\n",
       "  <thead>\n",
       "    <tr style=\"text-align: right;\">\n",
       "      <th></th>\n",
       "      <th>Returns</th>\n",
       "    </tr>\n",
       "  </thead>\n",
       "  <tbody>\n",
       "    <tr>\n",
       "      <th>0</th>\n",
       "      <td>1.0</td>\n",
       "    </tr>\n",
       "    <tr>\n",
       "      <th>1</th>\n",
       "      <td>1.0</td>\n",
       "    </tr>\n",
       "  </tbody>\n",
       "</table>\n",
       "</div>"
      ],
      "text/plain": [
       "   Returns\n",
       "0      1.0\n",
       "1      1.0"
      ]
     },
     "execution_count": 79,
     "metadata": {},
     "output_type": "execute_result"
    }
   ],
   "source": [
    "dados_nulos = df[['Returns']]\n",
    "dados_nulos.head(n=2)"
   ]
  },
  {
   "cell_type": "code",
   "execution_count": 80,
   "metadata": {},
   "outputs": [
    {
     "name": "stdout",
     "output_type": "stream",
     "text": [
      "Returns    float64\n",
      "dtype: object\n",
      "Returns\n",
      "1.0        101476\n",
      "0.0        101142\n",
      "Name: count, dtype: int64\n"
     ]
    }
   ],
   "source": [
    "print(dados_nulos.dtypes)\n",
    "print(dados_nulos.value_counts())"
   ]
  },
  {
   "cell_type": "markdown",
   "metadata": {},
   "source": [
    "---"
   ]
  },
  {
   "cell_type": "code",
   "execution_count": 81,
   "metadata": {},
   "outputs": [
    {
     "data": {
      "text/html": [
       "<div>\n",
       "<style scoped>\n",
       "    .dataframe tbody tr th:only-of-type {\n",
       "        vertical-align: middle;\n",
       "    }\n",
       "\n",
       "    .dataframe tbody tr th {\n",
       "        vertical-align: top;\n",
       "    }\n",
       "\n",
       "    .dataframe thead th {\n",
       "        text-align: right;\n",
       "    }\n",
       "</style>\n",
       "<table border=\"1\" class=\"dataframe\">\n",
       "  <thead>\n",
       "    <tr style=\"text-align: right;\">\n",
       "      <th></th>\n",
       "      <th>count</th>\n",
       "      <th>mean</th>\n",
       "      <th>std</th>\n",
       "      <th>min</th>\n",
       "      <th>25%</th>\n",
       "      <th>50%</th>\n",
       "      <th>75%</th>\n",
       "      <th>max</th>\n",
       "    </tr>\n",
       "  </thead>\n",
       "  <tbody>\n",
       "    <tr>\n",
       "      <th>Product Price</th>\n",
       "      <td>250000.0</td>\n",
       "      <td>254.742724</td>\n",
       "      <td>141.738104</td>\n",
       "      <td>10.0</td>\n",
       "      <td>132.0</td>\n",
       "      <td>255.0</td>\n",
       "      <td>377.0</td>\n",
       "      <td>500.0</td>\n",
       "    </tr>\n",
       "    <tr>\n",
       "      <th>Quantity</th>\n",
       "      <td>250000.0</td>\n",
       "      <td>3.004936</td>\n",
       "      <td>1.414737</td>\n",
       "      <td>1.0</td>\n",
       "      <td>2.0</td>\n",
       "      <td>3.0</td>\n",
       "      <td>4.0</td>\n",
       "      <td>5.0</td>\n",
       "    </tr>\n",
       "    <tr>\n",
       "      <th>Total Purchase Amount</th>\n",
       "      <td>250000.0</td>\n",
       "      <td>2725.385196</td>\n",
       "      <td>1442.576095</td>\n",
       "      <td>100.0</td>\n",
       "      <td>1476.0</td>\n",
       "      <td>2725.0</td>\n",
       "      <td>3975.0</td>\n",
       "      <td>5350.0</td>\n",
       "    </tr>\n",
       "    <tr>\n",
       "      <th>Customer Age</th>\n",
       "      <td>250000.0</td>\n",
       "      <td>43.798276</td>\n",
       "      <td>15.364915</td>\n",
       "      <td>18.0</td>\n",
       "      <td>30.0</td>\n",
       "      <td>44.0</td>\n",
       "      <td>57.0</td>\n",
       "      <td>70.0</td>\n",
       "    </tr>\n",
       "    <tr>\n",
       "      <th>Returns</th>\n",
       "      <td>202618.0</td>\n",
       "      <td>0.500824</td>\n",
       "      <td>0.500001</td>\n",
       "      <td>0.0</td>\n",
       "      <td>0.0</td>\n",
       "      <td>1.0</td>\n",
       "      <td>1.0</td>\n",
       "      <td>1.0</td>\n",
       "    </tr>\n",
       "    <tr>\n",
       "      <th>Age</th>\n",
       "      <td>250000.0</td>\n",
       "      <td>43.798276</td>\n",
       "      <td>15.364915</td>\n",
       "      <td>18.0</td>\n",
       "      <td>30.0</td>\n",
       "      <td>44.0</td>\n",
       "      <td>57.0</td>\n",
       "      <td>70.0</td>\n",
       "    </tr>\n",
       "    <tr>\n",
       "      <th>Churn</th>\n",
       "      <td>250000.0</td>\n",
       "      <td>0.200520</td>\n",
       "      <td>0.400390</td>\n",
       "      <td>0.0</td>\n",
       "      <td>0.0</td>\n",
       "      <td>0.0</td>\n",
       "      <td>0.0</td>\n",
       "      <td>1.0</td>\n",
       "    </tr>\n",
       "  </tbody>\n",
       "</table>\n",
       "</div>"
      ],
      "text/plain": [
       "                          count         mean          std    min     25%  \\\n",
       "Product Price          250000.0   254.742724   141.738104   10.0   132.0   \n",
       "Quantity               250000.0     3.004936     1.414737    1.0     2.0   \n",
       "Total Purchase Amount  250000.0  2725.385196  1442.576095  100.0  1476.0   \n",
       "Customer Age           250000.0    43.798276    15.364915   18.0    30.0   \n",
       "Returns                202618.0     0.500824     0.500001    0.0     0.0   \n",
       "Age                    250000.0    43.798276    15.364915   18.0    30.0   \n",
       "Churn                  250000.0     0.200520     0.400390    0.0     0.0   \n",
       "\n",
       "                          50%     75%     max  \n",
       "Product Price           255.0   377.0   500.0  \n",
       "Quantity                  3.0     4.0     5.0  \n",
       "Total Purchase Amount  2725.0  3975.0  5350.0  \n",
       "Customer Age             44.0    57.0    70.0  \n",
       "Returns                   1.0     1.0     1.0  \n",
       "Age                      44.0    57.0    70.0  \n",
       "Churn                     0.0     0.0     1.0  "
      ]
     },
     "execution_count": 81,
     "metadata": {},
     "output_type": "execute_result"
    }
   ],
   "source": [
    "df.drop('Customer ID', axis=1).select_dtypes('number').describe().transpose()"
   ]
  },
  {
   "cell_type": "markdown",
   "metadata": {},
   "source": [
    "### **`Perguntas`**\n",
    "\n",
    "<ol type=\"1\">\n",
    "  <li>Carregamento dos dados e dos pacotes</li>\n",
    "</ol>\n",
    "\n",
    "Se quiser acessar as respostas dessas perguntas vá para o próximo projeto: [Análise completa]()"
   ]
  },
  {
   "cell_type": "markdown",
   "metadata": {},
   "source": [
    "##\n",
    "\n",
    "<p align=\"center\">\n",
    "  Enzo Schitini\n",
    "</p>\n",
    "\n",
    "<p align=\"center\">\n",
    "  Data Scientist • Expert Bubble.io • UX & UI @ Nugus creator\n",
    "</p>"
   ]
  }
 ],
 "metadata": {
  "kernelspec": {
   "display_name": "Python 3",
   "language": "python",
   "name": "python3"
  },
  "language_info": {
   "codemirror_mode": {
    "name": "ipython",
    "version": 3
   },
   "file_extension": ".py",
   "mimetype": "text/x-python",
   "name": "python",
   "nbconvert_exporter": "python",
   "pygments_lexer": "ipython3",
   "version": "3.11.5"
  }
 },
 "nbformat": 4,
 "nbformat_minor": 2
}
